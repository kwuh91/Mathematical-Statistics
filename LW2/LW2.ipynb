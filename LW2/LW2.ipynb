{
 "cells": [
  {
   "cell_type": "code",
   "execution_count": 1101,
   "metadata": {},
   "outputs": [],
   "source": [
    "import numpy as np\n",
    "import math\n",
    "import matplotlib.pyplot as plt"
   ]
  },
  {
   "cell_type": "code",
   "execution_count": 1102,
   "metadata": {},
   "outputs": [],
   "source": [
    "np.set_printoptions(suppress=True)"
   ]
  },
  {
   "cell_type": "code",
   "execution_count": 1103,
   "metadata": {},
   "outputs": [],
   "source": [
    "PRECISION = 5"
   ]
  },
  {
   "cell_type": "code",
   "execution_count": 1104,
   "metadata": {},
   "outputs": [],
   "source": [
    "k = 8   # Количество испытаний\n",
    "p = 0.7 # Вероятность успеха в одном испытании\n",
    "n = 140 # Объем выборки\n",
    "\n",
    "# k = 3   # Количество испытаний\n",
    "# p = 0.5 # Вероятность успеха в одном испытании\n",
    "# n = 160 # Объем выборки\n",
    "\n",
    "# k = 10  # Количество испытаний\n",
    "# p = 0.4 # Вероятность успеха в одном испытании\n",
    "# n = 120 # Объем выборки"
   ]
  },
  {
   "cell_type": "code",
   "execution_count": 1105,
   "metadata": {},
   "outputs": [
    {
     "data": {
      "text/plain": [
       "array([0.00007, 0.00122, 0.01   , 0.04668, 0.13614, 0.25412, 0.29648,\n",
       "       0.19765, 0.05765])"
      ]
     },
     "execution_count": 1105,
     "metadata": {},
     "output_type": "execute_result"
    }
   ],
   "source": [
    "probs = [] # Вероятности\n",
    "\n",
    "for j in range(k + 1):\n",
    "    pj = math.comb(k, j) * p**j * (1 - p)**(k - j) # формула Бернулли\n",
    "    probs.append(pj)\n",
    "\n",
    "np.round(np.array(probs), PRECISION)"
   ]
  },
  {
   "cell_type": "code",
   "execution_count": 1106,
   "metadata": {},
   "outputs": [
    {
     "data": {
      "text/plain": [
       "array([0.00007, 0.00129, 0.01129, 0.05797, 0.1941 , 0.44823, 0.7447 ,\n",
       "       0.94235, 1.     ])"
      ]
     },
     "execution_count": 1106,
     "metadata": {},
     "output_type": "execute_result"
    }
   ],
   "source": [
    "kumProbs = [sum(probs[:(i + 1)]) for i in range(k + 1)] # Кумулятивные вероятности\n",
    "\n",
    "np.round(np.array(kumProbs), PRECISION)"
   ]
  },
  {
   "cell_type": "code",
   "execution_count": 1107,
   "metadata": {},
   "outputs": [
    {
     "data": {
      "text/plain": [
       "array([0.22183838, 0.25624019, 0.05717201, 0.54527252, 0.59372151,\n",
       "       0.03656662, 0.35330949, 0.67278093, 0.1206809 , 0.89650677,\n",
       "       0.32389891, 0.33110372, 0.1212511 , 0.91838122, 0.80194048,\n",
       "       0.42568784, 0.79911348, 0.56515175, 0.57771154, 0.1500624 ,\n",
       "       0.99150662, 0.79900282, 0.21076924, 0.25895639, 0.65953985,\n",
       "       0.88015108, 0.24611647, 0.37191525, 0.0005573 , 0.76802564,\n",
       "       0.96361811, 0.32382173, 0.2155219 , 0.29219946, 0.82708502,\n",
       "       0.5491997 , 0.60653553, 0.37717137, 0.20773211, 0.97872084,\n",
       "       0.20272342, 0.61700332, 0.07746063, 0.30928361, 0.06599917,\n",
       "       0.4800576 , 0.28011796, 0.59721954, 0.13083771, 0.45531344,\n",
       "       0.61553443, 0.11039441, 0.40589396, 0.48624752, 0.85072406,\n",
       "       0.00302176, 0.01236176, 0.72725472, 0.47561007, 0.63542644,\n",
       "       0.3703631 , 0.91991465, 0.0943572 , 0.62394509, 0.07980797,\n",
       "       0.3332179 , 0.78193207, 0.60828322, 0.43244287, 0.54538854,\n",
       "       0.93958847, 0.79531317, 0.57184138, 0.10057409, 0.63680296,\n",
       "       0.38397922, 0.34786222, 0.78551725, 0.35314684, 0.78728285,\n",
       "       0.32021719, 0.51612513, 0.54406676, 0.75027497, 0.46983709,\n",
       "       0.56525077, 0.75223595, 0.7284236 , 0.57750531, 0.70433549,\n",
       "       0.91488571, 0.74839949, 0.86306956, 0.09424659, 0.29368739,\n",
       "       0.8688921 , 0.01531028, 0.34292003, 0.91606857, 0.8749655 ,\n",
       "       0.35821788, 0.37960124, 0.91779949, 0.8432251 , 0.55457177,\n",
       "       0.46972519, 0.09582678, 0.14223777, 0.98749695, 0.80673785,\n",
       "       0.72215442, 0.03391228, 0.01121869, 0.97511226, 0.96888345,\n",
       "       0.23425505, 0.53563843, 0.426665  , 0.98074274, 0.44049356,\n",
       "       0.19725452, 0.85288051, 0.20358586, 0.67631658, 0.41562741,\n",
       "       0.44394574, 0.5568507 , 0.01951911, 0.16486638, 0.56463545,\n",
       "       0.88867425, 0.02145541, 0.87327269, 0.54339601, 0.12602267,\n",
       "       0.94210452, 0.85785893, 0.13413202, 0.0200769 , 0.15263197])"
      ]
     },
     "execution_count": 1107,
     "metadata": {},
     "output_type": "execute_result"
    }
   ],
   "source": [
    "Y = np.random.rand(n) # n случайных величин\n",
    "Y"
   ]
  },
  {
   "cell_type": "code",
   "execution_count": 1108,
   "metadata": {},
   "outputs": [
    {
     "name": "stdout",
     "output_type": "stream",
     "text": [
      "[5, 5, 3, 6, 6, 3, 5, 6, 4, 7, 5, 5, 4, 7, 7, 5, 7, 6, 6, 4, 8, 7, 5, 5, 6, 7, 5, 5, 1, 7, 8, 5, 5, 5, 7, 6, 6, 5, 5, 8, 5, 6, 4, 5, 4, 6, 5, 6, 4, 6, 6, 4, 5, 6, 7, 2, 3, 6, 6, 6, 5, 7, 4, 6, 4, 5, 7, 6, 5, 6, 7, 7, 6, 4, 6, 5, 5, 7, 5, 7, 5, 6, 6, 7, 6, 6, 7, 6, 6, 6, 7, 7, 7, 4, 5, 7, 3, 5, 7, 7, 5, 5, 7, 7, 6, 6, 4, 4, 8, 7, 6, 3, 2, 8, 8, 5, 6, 5, 8, 5, 5, 7, 5, 6, 5, 5, 6, 3, 4, 6, 7, 3, 7, 6, 4, 7, 7, 4, 3, 4]\n"
     ]
    }
   ],
   "source": [
    "# По вектору Y разыгрываем вектор X в соответствии с алгоритмом\n",
    "def k_func(u, r):\n",
    "    i: int = 0\n",
    "    for j in range(len(u)):\n",
    "        if r < u[j]:\n",
    "            break\n",
    "        i += 1\n",
    "    return i\n",
    "\n",
    "X = []\n",
    "\n",
    "for Yj in Y:\n",
    "    X.append(k_func(kumProbs, Yj))\n",
    "\n",
    "print(X)"
   ]
  },
  {
   "cell_type": "code",
   "execution_count": 1109,
   "metadata": {},
   "outputs": [
    {
     "name": "stdout",
     "output_type": "stream",
     "text": [
      "Значения случайной величины: [0 1 2 3 4 5 6 7 8]\n",
      "Частоты:                     [0, 1, 2, 8, 17, 37, 37, 31, 7]\n",
      "Относительные частоты:       [0.         0.00714286 0.01428571 0.05714286 0.12142857 0.26428571\n",
      " 0.26428571 0.22142857 0.05      ]\n",
      "Накопленные частоты:         [0.         0.00714286 0.02142857 0.07857143 0.2        0.46428571\n",
      " 0.72857143 0.95       1.        ]\n"
     ]
    }
   ],
   "source": [
    "# Строим статистический ряд\n",
    "def findFreq(data, k):\n",
    "    # values = set(data)\n",
    "    values = np.arange(k + 1)\n",
    "    counting = {}\n",
    "    for value in values:\n",
    "        counting[value] = 0\n",
    "\n",
    "    for el in data:\n",
    "        counting[el] += 1\n",
    "    \n",
    "    return [counting[el] for el in values]\n",
    "\n",
    "# values  = list(set(X))\n",
    "values  = np.arange(k + 1)\n",
    "freq    = findFreq(X, k)\n",
    "relFreq = np.array(freq) / n\n",
    "kumFreq = np.array([sum(relFreq[:(i + 1)]) for i in range(len(relFreq))])\n",
    "\n",
    "print(f'Значения случайной величины: {values}')\n",
    "print(f'Частоты:                     {freq}')\n",
    "print(f'Относительные частоты:       {relFreq}')\n",
    "print(f'Накопленные частоты:         {kumFreq}')"
   ]
  },
  {
   "cell_type": "code",
   "execution_count": 1110,
   "metadata": {},
   "outputs": [],
   "source": [
    "def CDF(z, values, kumFreq):\n",
    "    if z <= values[0]:\n",
    "        return 0\n",
    "    \n",
    "    if len(values) > 1:\n",
    "        for i in range(1, len(values)):\n",
    "            prev = values[i - 1]\n",
    "            curr = values[i]\n",
    "\n",
    "            if prev < z <= curr:\n",
    "                return kumFreq[i - 1]\n",
    "\n",
    "    if z > values[-1]:\n",
    "        return 1"
   ]
  },
  {
   "cell_type": "code",
   "execution_count": 1111,
   "metadata": {},
   "outputs": [],
   "source": [
    "def buildCDF(data, \n",
    "             cdf, values, kumFreq, \n",
    "             theoretical_cdf_y_values):\n",
    "    RED   = '#6F1D1B'\n",
    "\n",
    "    # Define font sizes\n",
    "    SIZE_DEFAULT = 14\n",
    "    SIZE_LARGE   = 16\n",
    "    SIZE_TICKS   = 10\n",
    "    plt.rc(\"font\", weight=\"normal\")          # controls default font\n",
    "    plt.rc(\"font\", size=SIZE_DEFAULT)        # controls default text sizes\n",
    "    plt.rc(\"axes\", titlesize=SIZE_LARGE)     # fontsize of the axes title\n",
    "    plt.rc(\"axes\", labelsize=SIZE_DEFAULT)   # fontsize of the x and y labels\n",
    "    plt.rc(\"xtick\", labelsize=SIZE_DEFAULT)  # fontsize of the tick labels\n",
    "    plt.rc(\"ytick\", labelsize=SIZE_DEFAULT)  # fontsize of the tick labels\n",
    "\n",
    "    _, ax = plt.subplots(\n",
    "        figsize=(6, 5)\n",
    "    )\n",
    "\n",
    "    # Generate a range of x values\n",
    "    x_values = np.linspace(-1, np.max(data) + np.min(data) + 1, 100)\n",
    "    # x_values = np.arange(k + 1)\n",
    "\n",
    "    # Evaluate the function for each x value (empirical)\n",
    "    cdf_y_values = [cdf(x, values, kumFreq) for x in x_values]\n",
    "\n",
    "    xticks = [i for i in range(-1, int(np.max(data) + np.min(data)) + 1 + 1)]\n",
    "    yticks = np.arange(0, 1.2 + 0.1, 0.1)\n",
    "\n",
    "    # Hide the all but the bottom spines (axis lines)\n",
    "    ax.spines[\"right\"].set_visible(False)\n",
    "    ax.spines[\"left\"].set_visible(False)\n",
    "    ax.spines[\"top\"].set_visible(False)\n",
    "\n",
    "    # Only show ticks on the left and bottom spines\n",
    "    ax.yaxis.set_ticks_position(\"left\")\n",
    "    ax.xaxis.set_ticks_position(\"bottom\")\n",
    "    ax.spines[\"bottom\"].set_bounds(min(xticks), max(xticks))\n",
    "\n",
    "    # plot y = 1 line\n",
    "    plt.plot(x_values, np.full_like(x_values, 1), label='y = 1', linestyle='--', color='black')\n",
    "\n",
    "    # Plot cdf(x) (empirical)\n",
    "    plt.step(x_values, cdf_y_values, label='empirical(x)', color=RED)\n",
    "\n",
    "    # Plot the theoretical distribution function\n",
    "    x_values = np.arange(-1, k + 2)\n",
    "    plt.step(x_values, theoretical_cdf_y_values, label='theoretical(x)', color='black', linestyle='dotted')\n",
    "\n",
    "    # axis names\n",
    "    plt.xlabel('z')\n",
    "    plt.ylabel('F(z)')\n",
    "\n",
    "    plt.xticks(xticks)\n",
    "    plt.yticks(yticks)\n",
    "\n",
    "    # Adjust the font size of the tick labels\n",
    "    plt.tick_params(axis='both', which='major', labelsize=SIZE_TICKS)\n",
    "\n",
    "    plt.grid(True)\n",
    "\n",
    "    plt.show()"
   ]
  },
  {
   "cell_type": "code",
   "execution_count": 1112,
   "metadata": {},
   "outputs": [
    {
     "data": {
      "image/png": "[encoded data removed]",
      "text/plain": [
       "<Figure size 600x500 with 1 Axes>"
      ]
     },
     "metadata": {},
     "output_type": "display_data"
    }
   ],
   "source": [
    "kumProbs = [0] + [0] + kumProbs\n",
    "buildCDF(X, \n",
    "         CDF, values, kumFreq, # эмпирическая\n",
    "         kumProbs)             # теоретическая\n"
   ]
  },
  {
   "cell_type": "code",
   "execution_count": 1113,
   "metadata": {},
   "outputs": [
    {
     "name": "stdout",
     "output_type": "stream",
     "text": [
      "значение: (-1, 0], (0, 1], (1, 2], (2, 3], (3, 4], (4, 5], (5, 6], (6, 7], (7, 8], (8, 9], \n",
      "эмпир функция распр: [0.      0.      0.00714 0.02143 0.07857 0.2     0.46429 0.72857 0.95\n",
      " 1.     ]\n",
      "теор функция распр:  [0.      0.00007 0.00129 0.01129 0.05797 0.1941  0.44823 0.7447  0.94235\n",
      " 1.     ]\n",
      "модуль разности:     [0.      0.00007 0.00585 0.01014 0.0206  0.0059  0.01606 0.01613 0.00765\n",
      " 0.     ]\n",
      "\n",
      "D = 0.02060377857142854\n"
     ]
    }
   ],
   "source": [
    "empirVals = []\n",
    "theoretVals = []\n",
    "diffs = []\n",
    "print(f'значение: ', end='')\n",
    "for i in range(0, k + 2):\n",
    "    print(f'({i-1}, {i}]',end=', ')\n",
    "    empirVal   = CDF(i, values, kumFreq)\n",
    "    theoretVal = kumProbs[i + 1]\n",
    "    diff = abs(empirVal - theoretVal)\n",
    "\n",
    "    empirVals.append(empirVal)\n",
    "    theoretVals.append(theoretVal)\n",
    "    diffs.append(diff)\n",
    "\n",
    "print(f'\\nэмпир функция распр: {np.round(np.array(empirVals), PRECISION)}')\n",
    "print(f'теор функция распр:  {np.round(np.array(theoretVals), PRECISION)}')\n",
    "print(f'модуль разности:     {np.round(np.array(diffs), PRECISION)}')\n",
    "\n",
    "D = max(diffs)\n",
    "print(f'\\nD = {D}')"
   ]
  },
  {
   "cell_type": "code",
   "execution_count": 1114,
   "metadata": {},
   "outputs": [
    {
     "name": "stdout",
     "output_type": "stream",
     "text": [
      "выборочное среднее: 5.55 (5.55)\n",
      "выборочная дисперсия: 1.90396\n",
      "мат ожидание: 5.6\n",
      "дисперсия: 1.68\n"
     ]
    }
   ],
   "source": [
    "# эмпирическая\n",
    "\n",
    "# выборочное среднее\n",
    "overlineX = np.round((1 / n) * np.sum(X), PRECISION)\n",
    "m1 = np.mean(X)\n",
    "\n",
    "# выборочная дисперсия\n",
    "S2 = np.round(1 / (n - 1) * np.sum((X - overlineX)**2), PRECISION)\n",
    "\n",
    "print(f'выборочное среднее: {overlineX} ({m1})')\n",
    "print(f'выборочная дисперсия: {S2}')\n",
    "\n",
    "# теоретическая\n",
    "\n",
    "# мат ожидание\n",
    "m = sum([i * probs[i] for i in range(k + 1)])\n",
    "\n",
    "# дисперсия\n",
    "d = sum([(i - m)**2 * probs[i] for i in range(k + 1)])\n",
    "\n",
    "print(f'мат ожидание: {m}')\n",
    "print(f'дисперсия: {d}')"
   ]
  }
 ],
 "metadata": {
  "kernelspec": {
   "display_name": "Python 3",
   "language": "python",
   "name": "python3"
  },
  "language_info": {
   "codemirror_mode": {
    "name": "ipython",
    "version": 3
   },
   "file_extension": ".py",
   "mimetype": "text/x-python",
   "name": "python",
   "nbconvert_exporter": "python",
   "pygments_lexer": "ipython3",
   "version": "3.11.9"
  }
 },
 "nbformat": 4,
 "nbformat_minor": 2
}
