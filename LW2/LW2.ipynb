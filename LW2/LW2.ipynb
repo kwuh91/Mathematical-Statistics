{
 "cells": [
  {
   "cell_type": "code",
   "execution_count": 797,
   "metadata": {},
   "outputs": [],
   "source": [
    "import numpy as np\n",
    "import math\n",
    "import matplotlib.pyplot as plt"
   ]
  },
  {
   "cell_type": "code",
   "execution_count": 798,
   "metadata": {},
   "outputs": [],
   "source": [
    "PRECISION = 7"
   ]
  },
  {
   "cell_type": "code",
   "execution_count": 799,
   "metadata": {},
   "outputs": [],
   "source": [
    "k = 8   # Количество испытаний\n",
    "p = 0.7 # Вероятность успеха в одном испытании\n",
    "n = 140 # Объем выборки\n",
    "\n",
    "# k = 3   # Количество испытаний\n",
    "# p = 0.5 # Вероятность успеха в одном испытании\n",
    "# n = 160 # Объем выборки\n",
    "\n",
    "# k = 10  # Количество испытаний\n",
    "# p = 0.4 # Вероятность успеха в одном испытании\n",
    "# n = 120 # Объем выборки"
   ]
  },
  {
   "cell_type": "code",
   "execution_count": 800,
   "metadata": {},
   "outputs": [
    {
     "data": {
      "text/plain": [
       "[6.561000000000007e-05,\n",
       " 0.0012247200000000012,\n",
       " 0.010001880000000008,\n",
       " 0.04667544000000002,\n",
       " 0.13613670000000003,\n",
       " 0.25412184000000004,\n",
       " 0.29647547999999996,\n",
       " 0.19765031999999993,\n",
       " 0.05764800999999997]"
      ]
     },
     "execution_count": 800,
     "metadata": {},
     "output_type": "execute_result"
    }
   ],
   "source": [
    "probs = [] # Вероятности\n",
    "\n",
    "for j in range(k + 1):\n",
    "    pj = math.comb(k, j) * p**j * (1 - p)**(k - j) # формула Бернулли\n",
    "    probs.append(pj)\n",
    "\n",
    "probs"
   ]
  },
  {
   "cell_type": "code",
   "execution_count": 801,
   "metadata": {},
   "outputs": [
    {
     "data": {
      "text/plain": [
       "[6.561000000000007e-05,\n",
       " 0.0012903300000000012,\n",
       " 0.011292210000000009,\n",
       " 0.05796765000000003,\n",
       " 0.19410435000000006,\n",
       " 0.4482261900000001,\n",
       " 0.74470167,\n",
       " 0.9423519899999999,\n",
       " 0.9999999999999999]"
      ]
     },
     "execution_count": 801,
     "metadata": {},
     "output_type": "execute_result"
    }
   ],
   "source": [
    "kumProbs = [sum(probs[:(i + 1)]) for i in range(k + 1)] # Кумулятивные вероятности\n",
    "kumProbs"
   ]
  },
  {
   "cell_type": "code",
   "execution_count": 802,
   "metadata": {},
   "outputs": [
    {
     "data": {
      "text/plain": [
       "array([0.28859036, 0.22851698, 0.306324  , 0.53074331, 0.04542381,\n",
       "       0.87131256, 0.63210622, 0.12404403, 0.7848789 , 0.79912389,\n",
       "       0.64404589, 0.895013  , 0.32058931, 0.11853037, 0.45941479,\n",
       "       0.33452033, 0.8237566 , 0.39363782, 0.3173287 , 0.06192065,\n",
       "       0.77460116, 0.52289271, 0.78948001, 0.26335576, 0.36447256,\n",
       "       0.63647646, 0.15878174, 0.62446735, 0.07392361, 0.63305505,\n",
       "       0.49902922, 0.87616914, 0.32858239, 0.85360513, 0.86905386,\n",
       "       0.48937229, 0.19756528, 0.62983395, 0.56793161, 0.03918074,\n",
       "       0.29288308, 0.53001387, 0.17647255, 0.17386723, 0.19160153,\n",
       "       0.57623544, 0.6612052 , 0.63538678, 0.70290983, 0.81816806,\n",
       "       0.27450513, 0.94741874, 0.36931895, 0.67422847, 0.48440553,\n",
       "       0.687471  , 0.08445773, 0.37123536, 0.77021053, 0.48659669,\n",
       "       0.40723839, 0.07659112, 0.51068454, 0.43161744, 0.92483112,\n",
       "       0.97814925, 0.30673968, 0.33198738, 0.59808618, 0.89246312,\n",
       "       0.86716686, 0.60462288, 0.32940887, 0.49928114, 0.4821594 ,\n",
       "       0.5710912 , 0.07139039, 0.97285823, 0.93086952, 0.20537066,\n",
       "       0.03480566, 0.95140314, 0.01034723, 0.64317074, 0.8821416 ,\n",
       "       0.64683524, 0.44845968, 0.71063569, 0.36027581, 0.31488319,\n",
       "       0.69468806, 0.86663191, 0.04050272, 0.42422656, 0.82246944,\n",
       "       0.76689888, 0.68261091, 0.74539942, 0.37211879, 0.93776198,\n",
       "       0.2338108 , 0.92180725, 0.11964559, 0.03412844, 0.13245156,\n",
       "       0.14848217, 0.8477985 , 0.73072042, 0.11681754, 0.22811034,\n",
       "       0.08416022, 0.30506788, 0.56306927, 0.06192295, 0.89302967,\n",
       "       0.75477569, 0.37712009, 0.63656102, 0.54573279, 0.07035422,\n",
       "       0.31163252, 0.06294866, 0.49962217, 0.08163219, 0.44508826,\n",
       "       0.25789484, 0.12250149, 0.51614151, 0.17243166, 0.91414442,\n",
       "       0.76278577, 0.23785646, 0.85403018, 0.06303643, 0.80657785,\n",
       "       0.29201927, 0.67330841, 0.11478405, 0.98574075, 0.09893358])"
      ]
     },
     "execution_count": 802,
     "metadata": {},
     "output_type": "execute_result"
    }
   ],
   "source": [
    "Y = np.random.rand(n) # n случайных величин\n",
    "Y"
   ]
  },
  {
   "cell_type": "code",
   "execution_count": 803,
   "metadata": {},
   "outputs": [
    {
     "name": "stdout",
     "output_type": "stream",
     "text": [
      "[5, 5, 5, 6, 3, 7, 6, 4, 7, 7, 6, 7, 5, 4, 6, 5, 7, 5, 5, 4, 7, 6, 7, 5, 5, 6, 4, 6, 4, 6, 6, 7, 5, 7, 7, 6, 5, 6, 6, 3, 5, 6, 4, 4, 4, 6, 6, 6, 6, 7, 5, 8, 5, 6, 6, 6, 4, 5, 7, 6, 5, 4, 6, 5, 7, 8, 5, 5, 6, 7, 7, 6, 5, 6, 6, 6, 4, 8, 7, 5, 3, 8, 2, 6, 7, 6, 6, 6, 5, 5, 6, 7, 3, 5, 7, 7, 6, 7, 5, 7, 5, 7, 4, 3, 4, 4, 7, 6, 4, 5, 4, 5, 6, 4, 7, 7, 5, 6, 6, 4, 5, 4, 6, 4, 5, 5, 4, 6, 4, 7, 7, 5, 7, 4, 7, 5, 6, 4, 8, 4]\n"
     ]
    }
   ],
   "source": [
    "# По вектору Y разыгрываем вектор X в соответствии с алгоритмом\n",
    "def k_func(u, r):\n",
    "    i: int = 0\n",
    "    for j in range(len(u)):\n",
    "        if r < u[j]:\n",
    "            break\n",
    "        i += 1\n",
    "    return i\n",
    "\n",
    "X = []\n",
    "\n",
    "for Yj in Y:\n",
    "    X.append(k_func(kumProbs, Yj))\n",
    "\n",
    "print(X)"
   ]
  },
  {
   "cell_type": "code",
   "execution_count": 804,
   "metadata": {},
   "outputs": [
    {
     "name": "stdout",
     "output_type": "stream",
     "text": [
      "Значения случайной величины: [0 1 2 3 4 5 6 7 8]\n",
      "Частоты:                     [0, 0, 1, 5, 25, 34, 40, 30, 5]\n",
      "Относительные частоты:       [0.         0.         0.00714286 0.03571429 0.17857143 0.24285714\n",
      " 0.28571429 0.21428571 0.03571429]\n",
      "Накопленные частоты:         [0.         0.         0.00714286 0.04285714 0.22142857 0.46428571\n",
      " 0.75       0.96428571 1.        ]\n"
     ]
    }
   ],
   "source": [
    "# Строим статистический ряд\n",
    "def findFreq(data, k):\n",
    "    # values = set(data)\n",
    "    values = np.arange(k + 1)\n",
    "    counting = {}\n",
    "    for value in values:\n",
    "        counting[value] = 0\n",
    "\n",
    "    for el in data:\n",
    "        counting[el] += 1\n",
    "    \n",
    "    return [counting[el] for el in values]\n",
    "\n",
    "# values  = list(set(X))\n",
    "values  = np.arange(k + 1)\n",
    "freq    = findFreq(X, k)\n",
    "relFreq = np.array(freq) / n\n",
    "kumFreq = np.array([sum(relFreq[:(i + 1)]) for i in range(len(relFreq))])\n",
    "\n",
    "print(f'Значения случайной величины: {values}')\n",
    "print(f'Частоты:                     {freq}')\n",
    "print(f'Относительные частоты:       {relFreq}')\n",
    "print(f'Накопленные частоты:         {kumFreq}')"
   ]
  },
  {
   "cell_type": "code",
   "execution_count": 805,
   "metadata": {},
   "outputs": [],
   "source": [
    "def CDF(z, values, kumFreq):\n",
    "    if z <= values[0]:\n",
    "        return 0\n",
    "    \n",
    "    if len(values) > 1:\n",
    "        for i in range(1, len(values)):\n",
    "            prev = values[i - 1]\n",
    "            curr = values[i]\n",
    "\n",
    "            if prev < z <= curr:\n",
    "                return kumFreq[i - 1]\n",
    "\n",
    "    if z > values[-1]:\n",
    "        return 1"
   ]
  },
  {
   "cell_type": "code",
   "execution_count": 806,
   "metadata": {},
   "outputs": [],
   "source": [
    "def buildCDF(data, \n",
    "             cdf, values, kumFreq, \n",
    "             theoretical_cdf_y_values):\n",
    "    RED   = '#6F1D1B'\n",
    "\n",
    "    # Define font sizes\n",
    "    SIZE_DEFAULT = 14\n",
    "    SIZE_LARGE   = 16\n",
    "    SIZE_TICKS   = 10\n",
    "    plt.rc(\"font\", weight=\"normal\")          # controls default font\n",
    "    plt.rc(\"font\", size=SIZE_DEFAULT)        # controls default text sizes\n",
    "    plt.rc(\"axes\", titlesize=SIZE_LARGE)     # fontsize of the axes title\n",
    "    plt.rc(\"axes\", labelsize=SIZE_DEFAULT)   # fontsize of the x and y labels\n",
    "    plt.rc(\"xtick\", labelsize=SIZE_DEFAULT)  # fontsize of the tick labels\n",
    "    plt.rc(\"ytick\", labelsize=SIZE_DEFAULT)  # fontsize of the tick labels\n",
    "\n",
    "    _, ax = plt.subplots(\n",
    "        figsize=(6, 5)\n",
    "    )\n",
    "\n",
    "    # Generate a range of x values\n",
    "    x_values = np.linspace(-1, np.max(data) + np.min(data) + 1, 100)\n",
    "    # x_values = np.arange(k + 1)\n",
    "\n",
    "    # Evaluate the function for each x value (empirical)\n",
    "    cdf_y_values = [cdf(x, values, kumFreq) for x in x_values]\n",
    "\n",
    "    xticks = [i for i in range(-1, int(np.max(data) + np.min(data)) + 1 + 1)]\n",
    "    yticks = np.arange(0, 1.2 + 0.1, 0.1)\n",
    "\n",
    "    # Hide the all but the bottom spines (axis lines)\n",
    "    ax.spines[\"right\"].set_visible(False)\n",
    "    ax.spines[\"left\"].set_visible(False)\n",
    "    ax.spines[\"top\"].set_visible(False)\n",
    "\n",
    "    # Only show ticks on the left and bottom spines\n",
    "    ax.yaxis.set_ticks_position(\"left\")\n",
    "    ax.xaxis.set_ticks_position(\"bottom\")\n",
    "    ax.spines[\"bottom\"].set_bounds(min(xticks), max(xticks))\n",
    "\n",
    "    # plot y = 1 line\n",
    "    plt.plot(x_values, np.full_like(x_values, 1), label='y = 1', linestyle='--', color='black')\n",
    "\n",
    "    # Plot cdf(x) (empirical)\n",
    "    plt.step(x_values, cdf_y_values, label='empirical(x)', color=RED)\n",
    "\n",
    "    # Plot the theoretical distribution function\n",
    "    # theoretical_cdf_y_values = sp.stats.binom.cdf(np.arange(n + 1), n, p)\n",
    "    # plt.plot(x_values, theoretical_cdf_y_values, label='theoretical(x)', color='black', linestyle='--')\n",
    "\n",
    "    # plt.step(np.arange(k + 1), theoretical_cdf_y_values, label='theoretical(x)', color='black', linestyle='--')\n",
    "\n",
    "    # plt.step(x_values, np.cumsum(sp.stats.binom.pmf(x_values, n, p)), label='theoretical(x)', color='black', linestyle='--')\n",
    "    # plt.step(np.arange(n + 1), theoretical_cdf_y_values, label='theoretical(x)', color='black', linestyle='--')\n",
    "\n",
    "    # plt.step(np.array([-2, -1, 0, 1, 2, 3]) + 1, [0] + [0] + theoretical_cdf_y_values, label='theoretical(x)', color='black', linestyle='--')\n",
    "    # theoretical_cdf_y_values = [0] + [0] + theoretical_cdf_y_values\n",
    "    x_values = np.arange(-1, k + 2)\n",
    "    plt.step(x_values, theoretical_cdf_y_values, label='theoretical(x)', color='black', linestyle='dotted')\n",
    "\n",
    "    # axis names\n",
    "    plt.xlabel('z')\n",
    "    plt.ylabel('F(z)')\n",
    "\n",
    "    plt.xticks(xticks)\n",
    "    plt.yticks(yticks)\n",
    "\n",
    "    # Adjust the font size of the tick labels\n",
    "    plt.tick_params(axis='both', which='major', labelsize=SIZE_TICKS)\n",
    "\n",
    "    plt.grid(True)\n",
    "\n",
    "    plt.show()"
   ]
  },
  {
   "cell_type": "code",
   "execution_count": 807,
   "metadata": {},
   "outputs": [
    {
     "data": {
      "image/png": "[encoded data removed]",
      "text/plain": [
       "<Figure size 600x500 with 1 Axes>"
      ]
     },
     "metadata": {},
     "output_type": "display_data"
    }
   ],
   "source": [
    "kumProbs = [0] + [0] + kumProbs\n",
    "buildCDF(X, \n",
    "         CDF, values, kumFreq, # эмпирическая\n",
    "         kumProbs)             # теоретическая\n"
   ]
  },
  {
   "cell_type": "code",
   "execution_count": 808,
   "metadata": {},
   "outputs": [
    {
     "name": "stdout",
     "output_type": "stream",
     "text": [
      "значение: (-1, 0], (0, 1], (1, 2], (2, 3], (3, 4], (4, 5], (5, 6], (6, 7], (7, 8], (8, 9], \n",
      "эмпир функция распр: [0, 0.0, 0.0, 0.007142857142857143, 0.04285714285714286, 0.22142857142857142, 0.4642857142857143, 0.75, 0.9642857142857143, 1]\n",
      "теор функция распр:  [0, 6.561000000000007e-05, 0.0012903300000000012, 0.011292210000000009, 0.05796765000000003, 0.19410435000000006, 0.4482261900000001, 0.74470167, 0.9423519899999999, 0.9999999999999999]\n",
      "модуль разности:     [0, 6.561000000000007e-05, 0.0012903300000000012, 0.0041493528571428665, 0.015110507142857173, 0.027324221428571355, 0.016059524285714222, 0.005298330000000018, 0.021933724285714384, 1.1102230246251565e-16]\n",
      "\n",
      "D = 0.027324221428571355\n"
     ]
    }
   ],
   "source": [
    "empirVals = []\n",
    "theoretVals = []\n",
    "diffs = []\n",
    "print(f'значение: ', end='')\n",
    "for i in range(0, k + 2):\n",
    "    print(f'({i-1}, {i}]',end=', ')\n",
    "    empirVal   = CDF(i, values, kumFreq)\n",
    "    theoretVal = kumProbs[i + 1]\n",
    "    diff = abs(empirVal - theoretVal)\n",
    "\n",
    "    empirVals.append(empirVal)\n",
    "    theoretVals.append(theoretVal)\n",
    "    diffs.append(diff)\n",
    "\n",
    "print(f'\\nэмпир функция распр: {empirVals}')\n",
    "print(f'теор функция распр:  {theoretVals}')\n",
    "print(f'модуль разности:     {diffs}')\n",
    "\n",
    "D = max(diffs)\n",
    "print(f'\\nD = {D}')"
   ]
  },
  {
   "cell_type": "code",
   "execution_count": 809,
   "metadata": {},
   "outputs": [
    {
     "name": "stdout",
     "output_type": "stream",
     "text": [
      "выборочное среднее: 5.55 (5.55)\n",
      "выборочная дисперсия: 1.5586331\n",
      "мат ожидание: 5.6\n",
      "дисперсия: 1.68\n"
     ]
    }
   ],
   "source": [
    "# эмпирическая\n",
    "\n",
    "# выборочное среднее\n",
    "overlineX = np.round((1 / n) * np.sum(X), PRECISION)\n",
    "m1 = np.mean(X)\n",
    "\n",
    "# выборочная дисперсия\n",
    "S2 = np.round(1 / (n - 1) * np.sum((X - overlineX)**2), PRECISION)\n",
    "\n",
    "print(f'выборочное среднее: {overlineX} ({m1})')\n",
    "print(f'выборочная дисперсия: {S2}')\n",
    "\n",
    "# теоретическая\n",
    "\n",
    "# мат ожидание\n",
    "m = sum([i * probs[i] for i in range(k + 1)])\n",
    "\n",
    "# дисперсия\n",
    "d = sum([(i - m)**2 * probs[i] for i in range(k + 1)])\n",
    "\n",
    "print(f'мат ожидание: {m}')\n",
    "print(f'дисперсия: {d}')"
   ]
  }
 ],
 "metadata": {
  "kernelspec": {
   "display_name": "Python 3",
   "language": "python",
   "name": "python3"
  },
  "language_info": {
   "codemirror_mode": {
    "name": "ipython",
    "version": 3
   },
   "file_extension": ".py",
   "mimetype": "text/x-python",
   "name": "python",
   "nbconvert_exporter": "python",
   "pygments_lexer": "ipython3",
   "version": "3.11.9"
  }
 },
 "nbformat": 4,
 "nbformat_minor": 2
}
