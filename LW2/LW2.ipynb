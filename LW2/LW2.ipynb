{
 "cells": [
  {
   "cell_type": "code",
   "execution_count": 351,
   "metadata": {},
   "outputs": [],
   "source": [
    "import numpy as np\n",
    "import math\n",
    "import matplotlib.pyplot as plt"
   ]
  },
  {
   "cell_type": "code",
   "execution_count": 352,
   "metadata": {},
   "outputs": [],
   "source": [
    "np.set_printoptions(suppress=True)"
   ]
  },
  {
   "cell_type": "code",
   "execution_count": 353,
   "metadata": {},
   "outputs": [],
   "source": [
    "PRECISION = 5"
   ]
  },
  {
   "cell_type": "code",
   "execution_count": 354,
   "metadata": {},
   "outputs": [],
   "source": [
    "k = 8   # Количество испытаний\n",
    "p = 0.7 # Вероятность успеха в одном испытании\n",
    "n = 140 # Объем выборки\n",
    "\n",
    "# k = 3   # Количество испытаний\n",
    "# p = 0.5 # Вероятность успеха в одном испытании\n",
    "# n = 160 # Объем выборки\n",
    "\n",
    "# k = 10  # Количество испытаний\n",
    "# p = 0.4 # Вероятность успеха в одном испытании\n",
    "# n = 120 # Объем выборки"
   ]
  },
  {
   "cell_type": "code",
   "execution_count": 355,
   "metadata": {},
   "outputs": [
    {
     "data": {
      "text/plain": [
       "array([0.00007, 0.00122, 0.01   , 0.04668, 0.13614, 0.25412, 0.29648,\n",
       "       0.19765, 0.05765])"
      ]
     },
     "execution_count": 355,
     "metadata": {},
     "output_type": "execute_result"
    }
   ],
   "source": [
    "probs = [] # Вероятности\n",
    "\n",
    "for j in range(k + 1):\n",
    "    pj = math.comb(k, j) * p**j * (1 - p)**(k - j) # формула Бернулли\n",
    "    probs.append(pj)\n",
    "\n",
    "np.round(np.array(probs), PRECISION)"
   ]
  },
  {
   "cell_type": "code",
   "execution_count": 356,
   "metadata": {},
   "outputs": [
    {
     "data": {
      "text/plain": [
       "array([0.00007, 0.00129, 0.01129, 0.05797, 0.1941 , 0.44823, 0.7447 ,\n",
       "       0.94235, 1.     ])"
      ]
     },
     "execution_count": 356,
     "metadata": {},
     "output_type": "execute_result"
    }
   ],
   "source": [
    "kumProbs = [sum(probs[:(i + 1)]) for i in range(k + 1)] # Кумулятивные вероятности\n",
    "\n",
    "np.round(np.array(kumProbs), PRECISION)"
   ]
  },
  {
   "cell_type": "code",
   "execution_count": 357,
   "metadata": {},
   "outputs": [
    {
     "data": {
      "text/plain": [
       "array([0.42867135, 0.95851671, 0.66160533, 0.7090651 , 0.70442908,\n",
       "       0.77215576, 0.00573806, 0.72989344, 0.66887226, 0.17796017,\n",
       "       0.0495361 , 0.98701941, 0.59560885, 0.97055994, 0.3923879 ,\n",
       "       0.07491954, 0.52467789, 0.45759769, 0.09589202, 0.66518794,\n",
       "       0.97107797, 0.90922053, 0.42666783, 0.66122137, 0.19973599,\n",
       "       0.73987276, 0.97650645, 0.93033515, 0.45984364, 0.75424503,\n",
       "       0.30252852, 0.07951453, 0.82737402, 0.68202047, 0.42719418,\n",
       "       0.92593876, 0.33961653, 0.86104974, 0.62947821, 0.31738232,\n",
       "       0.93529794, 0.56869288, 0.9035944 , 0.79064286, 0.9433907 ,\n",
       "       0.61327727, 0.34441887, 0.30545462, 0.16350162, 0.17901073,\n",
       "       0.53277882, 0.95733949, 0.0863191 , 0.76536283, 0.47889511,\n",
       "       0.71284018, 0.2342478 , 0.76377593, 0.47891458, 0.80069757,\n",
       "       0.1270861 , 0.23909822, 0.03458696, 0.79192802, 0.25538606,\n",
       "       0.75718875, 0.22185814, 0.01073129, 0.76493411, 0.4386274 ,\n",
       "       0.26358638, 0.78094713, 0.89049168, 0.99694242, 0.4276952 ,\n",
       "       0.7034067 , 0.02318613, 0.2680241 , 0.57906   , 0.87112111,\n",
       "       0.49451786, 0.90552564, 0.19195543, 0.1322701 , 0.78247168,\n",
       "       0.54788054, 0.17402219, 0.74289893, 0.89537406, 0.39215069,\n",
       "       0.21072366, 0.26326888, 0.97638878, 0.77596756, 0.29952104,\n",
       "       0.74540053, 0.93403811, 0.52477603, 0.45759741, 0.99278043,\n",
       "       0.89369021, 0.2611203 , 0.23743073, 0.86718841, 0.62444107,\n",
       "       0.90112886, 0.21158669, 0.29428061, 0.37681925, 0.95492195,\n",
       "       0.40197633, 0.32030736, 0.49039892, 0.10018111, 0.86457951,\n",
       "       0.70331287, 0.29227205, 0.14959283, 0.84989404, 0.59080979,\n",
       "       0.87957363, 0.65551021, 0.86911459, 0.32712492, 0.3975212 ,\n",
       "       0.17939401, 0.15899983, 0.60015488, 0.55349398, 0.60926981,\n",
       "       0.04043817, 0.29391997, 0.56073176, 0.46835537, 0.59793796,\n",
       "       0.27755187, 0.44901216, 0.84674821, 0.19439394, 0.86721182])"
      ]
     },
     "execution_count": 357,
     "metadata": {},
     "output_type": "execute_result"
    }
   ],
   "source": [
    "Y = np.random.rand(n) # n случайных величин\n",
    "Y"
   ]
  },
  {
   "cell_type": "code",
   "execution_count": 358,
   "metadata": {},
   "outputs": [
    {
     "name": "stdout",
     "output_type": "stream",
     "text": [
      "[5, 8, 6, 6, 6, 7, 2, 6, 6, 4, 3, 8, 6, 8, 5, 4, 6, 6, 4, 6, 8, 7, 5, 6, 5, 6, 8, 7, 6, 7, 5, 4, 7, 6, 5, 7, 5, 7, 6, 5, 7, 6, 7, 7, 8, 6, 5, 5, 4, 4, 6, 8, 4, 7, 6, 6, 5, 7, 6, 7, 4, 5, 3, 7, 5, 7, 5, 2, 7, 5, 5, 7, 7, 8, 5, 6, 3, 5, 6, 7, 6, 7, 4, 4, 7, 6, 4, 6, 7, 5, 5, 5, 8, 7, 5, 7, 7, 6, 6, 8, 7, 5, 5, 7, 6, 7, 5, 5, 5, 8, 5, 5, 6, 4, 7, 6, 5, 4, 7, 6, 7, 6, 7, 5, 5, 4, 4, 6, 6, 6, 3, 5, 6, 6, 6, 5, 6, 7, 5, 7]\n"
     ]
    }
   ],
   "source": [
    "# По вектору Y разыгрываем вектор X в соответствии с алгоритмом\n",
    "def k_func(u, r):\n",
    "    i: int = 0\n",
    "    for j in range(len(u)):\n",
    "        if r < u[j]:\n",
    "            break\n",
    "        i += 1\n",
    "    return i\n",
    "\n",
    "X = []\n",
    "\n",
    "for Yj in Y:\n",
    "    X.append(k_func(kumProbs, Yj))\n",
    "\n",
    "print(X)"
   ]
  },
  {
   "cell_type": "code",
   "execution_count": 359,
   "metadata": {},
   "outputs": [
    {
     "name": "stdout",
     "output_type": "stream",
     "text": [
      "Значения случайной величины: [0 1 2 3 4 5 6 7 8]\n",
      "Частоты:                     [0, 0, 2, 4, 15, 35, 39, 34, 11]\n",
      "Относительные частоты:       [0.         0.         0.01428571 0.02857143 0.10714286 0.25\n",
      " 0.27857143 0.24285714 0.07857143]\n",
      "Накопленные частоты:         [0.         0.         0.01428571 0.04285714 0.15       0.4\n",
      " 0.67857143 0.92142857 1.        ]\n"
     ]
    }
   ],
   "source": [
    "# Строим статистический ряд\n",
    "def findFreq(data, k):\n",
    "    values = np.arange(k + 1)\n",
    "    counting = {}\n",
    "    for value in values:\n",
    "        counting[value] = 0\n",
    "\n",
    "    for el in data:\n",
    "        counting[el] += 1\n",
    "    \n",
    "    return [counting[el] for el in values]\n",
    "\n",
    "values  = np.arange(k + 1)\n",
    "freq    = findFreq(X, k)\n",
    "relFreq = np.array(freq) / n\n",
    "kumFreq = np.array([sum(relFreq[:(i + 1)]) for i in range(len(relFreq))])\n",
    "\n",
    "print(f'Значения случайной величины: {values}')\n",
    "print(f'Частоты:                     {freq}')\n",
    "print(f'Относительные частоты:       {relFreq}')\n",
    "print(f'Накопленные частоты:         {kumFreq}')"
   ]
  },
  {
   "cell_type": "code",
   "execution_count": 360,
   "metadata": {},
   "outputs": [],
   "source": [
    "def CDF(z, values, kumFreq):\n",
    "    if z <= values[0]:\n",
    "        return 0\n",
    "    \n",
    "    if len(values) > 1:\n",
    "        for i in range(1, len(values)):\n",
    "            prev = values[i - 1]\n",
    "            curr = values[i]\n",
    "\n",
    "            if prev < z <= curr:\n",
    "                return kumFreq[i - 1]\n",
    "\n",
    "    if z > values[-1]:\n",
    "        return 1"
   ]
  },
  {
   "cell_type": "code",
   "execution_count": 361,
   "metadata": {},
   "outputs": [],
   "source": [
    "def buildCDF(data, \n",
    "             cdf, values, kumFreq, \n",
    "             theoretical_cdf_y_values):\n",
    "    RED   = '#6F1D1B'\n",
    "\n",
    "    # Define font sizes\n",
    "    SIZE_DEFAULT = 14\n",
    "    SIZE_LARGE   = 16\n",
    "    SIZE_TICKS   = 10\n",
    "    plt.rc(\"font\", weight=\"normal\")          # controls default font\n",
    "    plt.rc(\"font\", size=SIZE_DEFAULT)        # controls default text sizes\n",
    "    plt.rc(\"axes\", titlesize=SIZE_LARGE)     # fontsize of the axes title\n",
    "    plt.rc(\"axes\", labelsize=SIZE_DEFAULT)   # fontsize of the x and y labels\n",
    "    plt.rc(\"xtick\", labelsize=SIZE_DEFAULT)  # fontsize of the tick labels\n",
    "    plt.rc(\"ytick\", labelsize=SIZE_DEFAULT)  # fontsize of the tick labels\n",
    "\n",
    "    _, ax = plt.subplots(\n",
    "        figsize=(6, 5)\n",
    "    )\n",
    "\n",
    "    # Generate a range of x values\n",
    "    x_values = np.linspace(-1, np.max(data) + np.min(data) + 1, 100)\n",
    "\n",
    "    # Evaluate the function for each x value (empirical)\n",
    "    cdf_y_values = [cdf(x, values, kumFreq) for x in x_values]\n",
    "\n",
    "    xticks = [i for i in range(-1, int(np.max(data) + np.min(data)) + 1 + 1)]\n",
    "    yticks = np.arange(0, 1.2 + 0.1, 0.1)\n",
    "\n",
    "    # Hide the all but the bottom spines (axis lines)\n",
    "    ax.spines[\"right\"].set_visible(False)\n",
    "    ax.spines[\"left\"].set_visible(False)\n",
    "    ax.spines[\"top\"].set_visible(False)\n",
    "\n",
    "    # Only show ticks on the left and bottom spines\n",
    "    ax.yaxis.set_ticks_position(\"left\")\n",
    "    ax.xaxis.set_ticks_position(\"bottom\")\n",
    "    ax.spines[\"bottom\"].set_bounds(min(xticks), max(xticks))\n",
    "\n",
    "    # plot y = 1 line\n",
    "    plt.plot(x_values, np.full_like(x_values, 1), label='y = 1', linestyle='--', color='black')\n",
    "\n",
    "    # Plot cdf(x) (empirical)\n",
    "    plt.step(x_values, cdf_y_values, label='empirical(x)', color=RED)\n",
    "\n",
    "    # Plot the theoretical distribution function\n",
    "    x_values = np.arange(-1, k + 2)\n",
    "    plt.step(x_values, theoretical_cdf_y_values, label='theoretical(x)', color='black', linestyle='dotted')\n",
    "\n",
    "    # axis names\n",
    "    plt.xlabel('z')\n",
    "    plt.ylabel('F(z)')\n",
    "\n",
    "    plt.xticks(xticks)\n",
    "    plt.yticks(yticks)\n",
    "\n",
    "    # Adjust the font size of the tick labels\n",
    "    plt.tick_params(axis='both', which='major', labelsize=SIZE_TICKS)\n",
    "\n",
    "    plt.grid(True)\n",
    "\n",
    "    plt.show()"
   ]
  },
  {
   "cell_type": "code",
   "execution_count": 362,
   "metadata": {},
   "outputs": [
    {
     "data": {
      "image/png": "[encoded data removed]",
      "text/plain": [
       "<Figure size 600x500 with 1 Axes>"
      ]
     },
     "metadata": {},
     "output_type": "display_data"
    }
   ],
   "source": [
    "kumProbs = [0] + [0] + kumProbs\n",
    "buildCDF(X, \n",
    "         CDF, values, kumFreq, # эмпирическая\n",
    "         kumProbs)             # теоретическая\n"
   ]
  },
  {
   "cell_type": "code",
   "execution_count": 363,
   "metadata": {},
   "outputs": [
    {
     "name": "stdout",
     "output_type": "stream",
     "text": [
      "значение: (-1, 0], (0, 1], (1, 2], (2, 3], (3, 4], (4, 5], (5, 6], (6, 7], (7, 8], (8, 9], \n",
      "эмпир функция распр: [0.      0.      0.      0.01429 0.04286 0.15    0.4     0.67857 0.92143\n",
      " 1.     ]\n",
      "теор функция распр:  [0.      0.00007 0.00129 0.01129 0.05797 0.1941  0.44823 0.7447  0.94235\n",
      " 1.     ]\n",
      "модуль разности:     [0.      0.00007 0.00129 0.00299 0.01511 0.0441  0.04823 0.06613 0.02092\n",
      " 0.     ]\n",
      "\n",
      "D = 0.06613024142857138\n"
     ]
    }
   ],
   "source": [
    "empirVals = []\n",
    "theoretVals = []\n",
    "diffs = []\n",
    "print(f'значение: ', end='')\n",
    "for i in range(0, k + 2):\n",
    "    print(f'({i-1}, {i}]',end=', ')\n",
    "    empirVal   = CDF(i, values, kumFreq)\n",
    "    theoretVal = kumProbs[i + 1]\n",
    "    diff = abs(empirVal - theoretVal)\n",
    "\n",
    "    empirVals.append(empirVal)\n",
    "    theoretVals.append(theoretVal)\n",
    "    diffs.append(diff)\n",
    "\n",
    "print(f'\\nэмпир функция распр: {np.round(np.array(empirVals), PRECISION)}')\n",
    "print(f'теор функция распр:  {np.round(np.array(theoretVals), PRECISION)}')\n",
    "print(f'модуль разности:     {np.round(np.array(diffs), PRECISION)}')\n",
    "\n",
    "D = max(diffs)\n",
    "print(f'\\nD = {D}')"
   ]
  },
  {
   "cell_type": "code",
   "execution_count": 364,
   "metadata": {},
   "outputs": [
    {
     "name": "stdout",
     "output_type": "stream",
     "text": [
      "выборочное среднее: 5.79286 (5.792857142857143)\n",
      "выборочная дисперсия: 1.67852\n",
      "мат ожидание: 5.6\n",
      "дисперсия: 1.68\n"
     ]
    }
   ],
   "source": [
    "# эмпирическая\n",
    "\n",
    "# выборочное среднее\n",
    "overlineX = np.round((1 / n) * np.sum(X), PRECISION)\n",
    "m1 = np.mean(X)\n",
    "\n",
    "# выборочная дисперсия\n",
    "S2 = np.round(1 / (n - 1) * np.sum((X - overlineX)**2), PRECISION)\n",
    "# S2 = np.round(1 / (n)     * np.sum((X - overlineX)**2), PRECISION)\n",
    "\n",
    "print(f'выборочное среднее: {overlineX} ({m1})')\n",
    "print(f'выборочная дисперсия: {S2}')\n",
    "\n",
    "# теоретическая\n",
    "\n",
    "# мат ожидание\n",
    "m = sum([i * probs[i] for i in range(k + 1)])\n",
    "\n",
    "# дисперсия\n",
    "d = sum([(i - m)**2 * probs[i] for i in range(k + 1)])\n",
    "\n",
    "print(f'мат ожидание: {m}')\n",
    "print(f'дисперсия: {d}')"
   ]
  }
 ],
 "metadata": {
  "kernelspec": {
   "display_name": "Python 3",
   "language": "python",
   "name": "python3"
  },
  "language_info": {
   "codemirror_mode": {
    "name": "ipython",
    "version": 3
   },
   "file_extension": ".py",
   "mimetype": "text/x-python",
   "name": "python",
   "nbconvert_exporter": "python",
   "pygments_lexer": "ipython3",
   "version": "3.11.9"
  }
 },
 "nbformat": 4,
 "nbformat_minor": 2
}
