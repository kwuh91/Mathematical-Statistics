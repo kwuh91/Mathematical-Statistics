{
 "cells": [
  {
   "cell_type": "code",
   "execution_count": 1,
   "metadata": {},
   "outputs": [],
   "source": [
    "import math"
   ]
  },
  {
   "cell_type": "code",
   "execution_count": 2,
   "metadata": {},
   "outputs": [],
   "source": [
    "class LCG:\n",
    "    def __init__(self, seed, a=561860773102413563, c=0, m=2**60-93):\n",
    "        self.seed = seed\n",
    "        self.a = a\n",
    "        self.c = c\n",
    "        self.m = m\n",
    "        self.state = seed\n",
    "\n",
    "    def next(self):\n",
    "        self.state = (self.a * self.state + self.c) % self.m\n",
    "        return self.state / self.m  # Normalize to [0, 1)\n",
    "    \n",
    "    def next_in_range(self, a, b):\n",
    "        return a + (b - a) * self.next()"
   ]
  },
  {
   "cell_type": "code",
   "execution_count": 3,
   "metadata": {},
   "outputs": [],
   "source": [
    "class MonteCarlo:\n",
    "    def __init__(self, N, PRNG_object):\n",
    "        self.N = N\n",
    "        self.PRNG = PRNG_object\n",
    "    \n",
    "    def integrate(self, f, a, b):\n",
    "        mult = (b - a) / self.N\n",
    "        \n",
    "        generatedValues = []\n",
    "        for _ in range(self.N):\n",
    "            randomArg = self.PRNG.next_in_range(a, b)\n",
    "            randomFuncVal = f(randomArg)\n",
    "\n",
    "            generatedValues.append(randomFuncVal)\n",
    "        \n",
    "        return mult * sum(generatedValues)"
   ]
  },
  {
   "cell_type": "code",
   "execution_count": 4,
   "metadata": {},
   "outputs": [],
   "source": [
    "class CDM:\n",
    "    def __init__(self, h):\n",
    "        self.h = h\n",
    "    \n",
    "    def diff(self, f, x):\n",
    "        numerator = f(x + self.h) - f(x - self.h)\n",
    "        denominator = 2 * self.h\n",
    "\n",
    "        return numerator / denominator"
   ]
  },
  {
   "cell_type": "code",
   "execution_count": 5,
   "metadata": {},
   "outputs": [],
   "source": [
    "class Newton:\n",
    "    def __init__(self, f, CDM_object, tol=1e-6, max_iter=1000):\n",
    "        self.f = f\n",
    "        self.CDM = CDM_object\n",
    "        self.tol = tol \n",
    "        self.max_iter = max_iter\n",
    "\n",
    "    def solve(self, y, x0):\n",
    "        x = x0\n",
    "        for _ in range(self.max_iter):\n",
    "            f_x = self.f(x) - y\n",
    "            f_prime_x = self.CDM.diff(self.f, x)\n",
    "            if abs(f_prime_x) < 1e-10:\n",
    "                raise ValueError(\"Derivative is zero, method fails.\")\n",
    "            x_new = x - f_x / f_prime_x\n",
    "            if abs(x_new - x) < self.tol:\n",
    "                return x_new\n",
    "            x = x_new\n",
    "        # return x_new\n",
    "        raise ValueError(f\"Method did not converge.({x_new})\")"
   ]
  },
  {
   "cell_type": "code",
   "execution_count": 6,
   "metadata": {},
   "outputs": [
    {
     "name": "stdout",
     "output_type": "stream",
     "text": [
      "8.190621308758706\n"
     ]
    }
   ],
   "source": [
    "if __name__ == '__main__':\n",
    "    lcg        = LCG(seed=42)\n",
    "    monteCarlo = MonteCarlo(1000000, lcg)\n",
    "    \n",
    "    def pdf(x): # f_X\n",
    "        return 1 / (math.sqrt(0.4 * math.pi) * x) \\\n",
    "            * math.exp(-(math.log(x) - 2)**2 / 0.4)\n",
    "\n",
    "    def subs(u):\n",
    "        return pdf(math.tan(u)) * (1 / math.cos(u)**2) * math.tan(u)\n",
    "\n",
    "    def cdf(x): # F_X\n",
    "        return monteCarlo.integrate(pdf, 0, x)\n",
    "\n",
    "    print(monteCarlo.integrate(subs, 0, math.pi/2))\n",
    "\n",
    "    cdm = CDM(h=1e-6)\n",
    "    newton = Newton(cdf, cdm, 0.001, 100)\n",
    "\n",
    "    def inverse(y, x0): # x = f^-1(y)\n",
    "        return newton.solve(y, x0)"
   ]
  },
  {
   "cell_type": "code",
   "execution_count": 7,
   "metadata": {},
   "outputs": [],
   "source": [
    "def foo(x):\n",
    "    return 1 - (50/x)**(25)\n",
    "\n",
    "def inv_foo(y):\n",
    "    return 50 / ((1 - y)**(1/25))"
   ]
  },
  {
   "cell_type": "code",
   "execution_count": 8,
   "metadata": {},
   "outputs": [],
   "source": [
    "if __name__ == '__main__':\n",
    "    lcg        = LCG(seed=42)\n",
    "    monteCarlo = MonteCarlo(100000, lcg)\n",
    "    \n",
    "    def pdf(x): # f_X\n",
    "        return (1 / 2) * (50 / x)**(26)\n",
    "\n",
    "    def cdf(x): # F_X\n",
    "        return monteCarlo.integrate(pdf, 50, x)\n",
    "\n",
    "    # for i in range(51, 60):\n",
    "    #     print(f'{foo(i)}   {cdf(i)}')\n",
    "\n",
    "    cdm    = CDM(h=1e-6)\n",
    "    newton = Newton(cdf, cdm, tol=1e-6, max_iter=1000)\n",
    "\n",
    "    def inverse(y, x0): # x = f^-1(y)\n",
    "        return newton.solve(y, x0)\n",
    "\n",
    "    # print(f'-'*200)\n",
    "\n",
    "    # print(inv_foo(0.355))\n",
    "    # print(inverse(0.355, 50))"
   ]
  },
  {
   "cell_type": "code",
   "execution_count": 9,
   "metadata": {},
   "outputs": [],
   "source": [
    "import scipy.special\n",
    "from scipy.stats import lognorm\n",
    "import numpy as np"
   ]
  },
  {
   "cell_type": "code",
   "execution_count": 10,
   "metadata": {},
   "outputs": [],
   "source": [
    "mu = 2\n",
    "sigma = math.sqrt(0.2)\n",
    "\n",
    "lognorm_dist = lognorm(s=sigma, scale=np.exp(mu))\n",
    "\n",
    "def foo(x):\n",
    "    # return math.sin(x)\n",
    "    # return x**3 - 2 * x - 5\n",
    "    return lognorm_dist.cdf(x)\n",
    "\n",
    "def inv_foo(y):\n",
    "    return lognorm_dist.ppf(y)\n"
   ]
  },
  {
   "cell_type": "code",
   "execution_count": null,
   "metadata": {},
   "outputs": [
    {
     "name": "stdout",
     "output_type": "stream",
     "text": [
      "\n",
      "scipy: 4.165651627465189\n"
     ]
    },
    {
     "name": "stderr",
     "output_type": "stream",
     "text": [
      "C:\\Users\\HYPERPC\\AppData\\Local\\Temp\\ipykernel_3936\\602708007.py:21: RuntimeWarning: divide by zero encountered in log\n",
      "  return 1/2 + 1/2 * erf((np.log(x) - 2)/(np.sqrt(0.4)))\n",
      "C:\\Users\\HYPERPC\\AppData\\Local\\Temp\\ipykernel_3936\\1631135038.py:16: RuntimeWarning: invalid value encountered in scalar multiply\n",
      "  return mult * sum(generatedValues)\n",
      "C:\\Users\\HYPERPC\\AppData\\Local\\Temp\\ipykernel_3936\\602708007.py:21: RuntimeWarning: invalid value encountered in log\n",
      "  return 1/2 + 1/2 * erf((np.log(x) - 2)/(np.sqrt(0.4)))\n"
     ]
    }
   ],
   "source": [
    "if __name__ == '__main__':\n",
    "    lcg        = LCG(seed=42)\n",
    "    monteCarlo = MonteCarlo(100000, lcg)\n",
    "    \n",
    "    def pdf(x): # f_X\n",
    "        # return 1 / (math.sqrt(0.4 * math.pi) * x) \\\n",
    "        #     * math.exp(-(math.log(x) - 2)**2 / 0.4)\n",
    "        return (1 / 2) * (50 / x)**(26)\n",
    "\n",
    "    def erf(x): # erf(x)\n",
    "        def integrand(t):\n",
    "            return np.exp(-t**2)\n",
    "\n",
    "        integral_value = monteCarlo.integrate(integrand, 0, x)\n",
    "        return (2 / np.sqrt(np.pi)) * integral_value\n",
    "\n",
    "    def cdf(x): # F_X\n",
    "        # return monteCarlo.integrate(pdf, 0, x)\n",
    "        # return monteCarlo.integrate(pdf, 50, x)\n",
    "        # return 1/2 + 1/2 * scipy.special.erf((np.log(x) - 2)/(np.sqrt(0.4)))\n",
    "         return 1/2 + 1/2 * erf((np.log(x) - 2)/(np.sqrt(0.4)))\n",
    "\n",
    "    # for i in range(0, 15):\n",
    "    #     print(f'{foo(i)}   {cdf(i)}')\n",
    "\n",
    "    cdm    = CDM(h=1e-6)\n",
    "    newton = Newton(cdf, cdm, tol=1e-6, max_iter=1000)\n",
    "\n",
    "    def inverse(y, x0): # x = f^-1(y)\n",
    "        return newton.solve(y, x0)\n",
    "\n",
    "    # print(f'foo: {foo(3.1519)}')\n",
    "    # print(f'cdf(51): {cdf(51)}')\n",
    "\n",
    "    print(f'')\n",
    "\n",
    "    data = [0.1, 0.2, 0.3, 0.4, 0.5, 0.6, 0.7, 0.8, 0.9, 1.0]\n",
    "    guesses = [0, 3, 6, 9, 12, 15]\n",
    "\n",
    "    for el in data:\n",
    "        print(f'scipy: {inv_foo(el)}')\n",
    "        for guess in guesses:\n",
    "            try: \n",
    "                print(f'mine: {newton.solve(el, guess)}')\n",
    "                break\n",
    "            except:\n",
    "                print(f'guess {guess} did not converge') \n",
    "        print('-'*200)\n",
    "\n",
    "    # print(inv_foo(0.5))\n",
    "    # print(newton.solve(0.5, 5))"
   ]
  }
 ],
 "metadata": {
  "kernelspec": {
   "display_name": "Python 3",
   "language": "python",
   "name": "python3"
  },
  "language_info": {
   "codemirror_mode": {
    "name": "ipython",
    "version": 3
   },
   "file_extension": ".py",
   "mimetype": "text/x-python",
   "name": "python",
   "nbconvert_exporter": "python",
   "pygments_lexer": "ipython3",
   "version": "3.11.9"
  }
 },
 "nbformat": 4,
 "nbformat_minor": 2
}
