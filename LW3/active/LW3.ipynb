{
 "cells": [
  {
   "cell_type": "code",
   "execution_count": 17,
   "metadata": {},
   "outputs": [],
   "source": [
    "import warnings\n",
    "warnings.filterwarnings(\"ignore\", category=RuntimeWarning)"
   ]
  },
  {
   "cell_type": "code",
   "execution_count": 18,
   "metadata": {},
   "outputs": [],
   "source": [
    "class CDM:\n",
    "    def __init__(self, h):\n",
    "        self.h = h\n",
    "    \n",
    "    def diff(self, f, x):\n",
    "        numerator = f(x + self.h) - f(x - self.h)\n",
    "        denominator = 2 * self.h\n",
    "\n",
    "        return numerator / denominator"
   ]
  },
  {
   "cell_type": "code",
   "execution_count": 19,
   "metadata": {},
   "outputs": [],
   "source": [
    "class Newton:\n",
    "    def __init__(self, f, CDM_object, tol=1e-6, max_iter=1000):\n",
    "        self.f = f\n",
    "        self.CDM = CDM_object\n",
    "        self.tol = tol \n",
    "        self.max_iter = max_iter\n",
    "\n",
    "    def solve(self, y, x0):\n",
    "        x = x0\n",
    "        for _ in range(self.max_iter):\n",
    "            f_x = self.f(x) - y\n",
    "            f_prime_x = self.CDM.diff(self.f, x)\n",
    "            if abs(f_prime_x) < 1e-10:\n",
    "                raise ValueError(\"Derivative is zero, method fails.\")\n",
    "            x_new = x - f_x / f_prime_x\n",
    "            if abs(x_new - x) < self.tol:\n",
    "                return x_new\n",
    "            x = x_new\n",
    "\n",
    "        raise ValueError(f\"Method did not converge.({x_new})\")"
   ]
  },
  {
   "cell_type": "code",
   "execution_count": 20,
   "metadata": {},
   "outputs": [],
   "source": [
    "class LCG:\n",
    "    def __init__(self, seed, a=561860773102413563, c=0, m=2**60-93):\n",
    "        self.seed = seed\n",
    "        self.a = a\n",
    "        self.c = c\n",
    "        self.m = m\n",
    "        self.state = seed\n",
    "\n",
    "    def next(self):\n",
    "        self.state = (self.a * self.state + self.c) % self.m\n",
    "        return self.state / self.m  # Normalize to [0, 1)\n",
    "    \n",
    "    # def next_in_range(self, a, b):\n",
    "    #     return a + (b - a) * self.next()"
   ]
  },
  {
   "cell_type": "code",
   "execution_count": 21,
   "metadata": {},
   "outputs": [],
   "source": [
    "import scipy.special\n",
    "import numpy as np"
   ]
  },
  {
   "cell_type": "code",
   "execution_count": 22,
   "metadata": {},
   "outputs": [
    {
     "name": "stdout",
     "output_type": "stream",
     "text": [
      "3.1657607190927446 36.348704412636216\n",
      "33.18294369354347\n"
     ]
    }
   ],
   "source": [
    "if __name__ == '__main__':\n",
    "\n",
    "    # ----------------------------------PART1----------------------------------\n",
    "\n",
    "    def cdf(x): # F_X\n",
    "        return 1/2 + 1/2 * \\\n",
    "            scipy.special.erf((np.log(x) - 2)/(np.sqrt(0.4)))\n",
    "\n",
    "    cdm    = CDM(h=1e-6)\n",
    "    newton = Newton(cdf, cdm, tol=1e-6, max_iter=1000)\n",
    "\n",
    "    def inverse(y, x0): # x = f^-1(y)\n",
    "        return newton.solve(y, x0)\n",
    "\n",
    "    n = 120\n",
    "    lcg = LCG(seed=42)\n",
    "\n",
    "    # ----------------------------------PART2----------------------------------\n",
    "\n",
    "    data = [lcg.next() for _ in range(n)]\n",
    "    # print(data)\n",
    "\n",
    "    guesses = [0, 3, 6, 9, 12, 15, 18, 21]\n",
    "    for ind, el in enumerate(data):\n",
    "        for attempt, guess in enumerate(guesses):\n",
    "            try: \n",
    "                inv_value = inverse(el, guess)\n",
    "                data[ind] = inv_value\n",
    "                break\n",
    "            except:\n",
    "                pass\n",
    "\n",
    "            if attempt == len(guesses) - 1:\n",
    "                raise Exception('Solution was not found')\n",
    "    \n",
    "    # print(data)\n",
    "\n",
    "    # ----------------------------------PART3----------------------------------\n",
    "\n",
    "    mini, maxi = min(data), max(data)\n",
    "    print(mini, maxi)\n",
    "\n",
    "    range = maxi - mini\n",
    "    print(range)"
   ]
  },
  {
   "cell_type": "markdown",
   "metadata": {},
   "source": [
    "<center> <h> TESTING </h> </center>"
   ]
  },
  {
   "cell_type": "code",
   "execution_count": 23,
   "metadata": {},
   "outputs": [],
   "source": [
    "from scipy.stats import lognorm\n",
    "\n",
    "mu = 2\n",
    "sigma = np.sqrt(0.2)\n",
    "\n",
    "lognorm_dist = lognorm(s=sigma, scale=np.exp(mu))\n",
    "\n",
    "def foo(x):\n",
    "    # return math.sin(x)\n",
    "    # return x**3 - 2 * x - 5\n",
    "    return lognorm_dist.cdf(x)\n",
    "\n",
    "def inv_foo(y):\n",
    "    return lognorm_dist.ppf(y)\n"
   ]
  },
  {
   "cell_type": "code",
   "execution_count": 24,
   "metadata": {},
   "outputs": [
    {
     "ename": "TypeError",
     "evalue": "'numpy.float64' object is not callable",
     "output_type": "error",
     "traceback": [
      "\u001b[1;31m---------------------------------------------------------------------------\u001b[0m",
      "\u001b[1;31mTypeError\u001b[0m                                 Traceback (most recent call last)",
      "Cell \u001b[1;32mIn[24], line 5\u001b[0m\n\u001b[0;32m      2\u001b[0m \u001b[38;5;28;01mdef\u001b[39;00m \u001b[38;5;21mcdf\u001b[39m(x): \u001b[38;5;66;03m# F_X\u001b[39;00m\n\u001b[0;32m      3\u001b[0m     \u001b[38;5;28;01mreturn\u001b[39;00m \u001b[38;5;241m1\u001b[39m\u001b[38;5;241m/\u001b[39m\u001b[38;5;241m2\u001b[39m \u001b[38;5;241m+\u001b[39m \u001b[38;5;241m1\u001b[39m\u001b[38;5;241m/\u001b[39m\u001b[38;5;241m2\u001b[39m \u001b[38;5;241m*\u001b[39m scipy\u001b[38;5;241m.\u001b[39mspecial\u001b[38;5;241m.\u001b[39merf((np\u001b[38;5;241m.\u001b[39mlog(x) \u001b[38;5;241m-\u001b[39m \u001b[38;5;241m2\u001b[39m)\u001b[38;5;241m/\u001b[39m(np\u001b[38;5;241m.\u001b[39msqrt(\u001b[38;5;241m0.4\u001b[39m)))\n\u001b[1;32m----> 5\u001b[0m \u001b[38;5;28;01mfor\u001b[39;00m i \u001b[38;5;129;01min\u001b[39;00m \u001b[38;5;28;43mrange\u001b[39;49m\u001b[43m(\u001b[49m\u001b[38;5;241;43m0\u001b[39;49m\u001b[43m,\u001b[49m\u001b[43m \u001b[49m\u001b[38;5;241;43m15\u001b[39;49m\u001b[43m)\u001b[49m:\n\u001b[0;32m      6\u001b[0m     \u001b[38;5;28mprint\u001b[39m(\u001b[38;5;124mf\u001b[39m\u001b[38;5;124m'\u001b[39m\u001b[38;5;132;01m{\u001b[39;00mfoo(i)\u001b[38;5;132;01m}\u001b[39;00m\u001b[38;5;124m   \u001b[39m\u001b[38;5;132;01m{\u001b[39;00mcdf(i)\u001b[38;5;132;01m}\u001b[39;00m\u001b[38;5;124m'\u001b[39m)\n\u001b[0;32m      8\u001b[0m cdm    \u001b[38;5;241m=\u001b[39m CDM(h\u001b[38;5;241m=\u001b[39m\u001b[38;5;241m1e-6\u001b[39m)\n",
      "\u001b[1;31mTypeError\u001b[0m: 'numpy.float64' object is not callable"
     ]
    }
   ],
   "source": [
    "if __name__ == '__main__':\n",
    "    def cdf(x): # F_X\n",
    "        return 1/2 + 1/2 * scipy.special.erf((np.log(x) - 2)/(np.sqrt(0.4)))\n",
    "\n",
    "    for i in range(0, 15):\n",
    "        print(f'{foo(i)}   {cdf(i)}')\n",
    "\n",
    "    cdm    = CDM(h=1e-6)\n",
    "    newton = Newton(cdf, cdm, tol=1e-6, max_iter=1000)\n",
    "\n",
    "    def inverse(y, x0): # x = f^-1(y)\n",
    "        return newton.solve(y, x0)\n",
    "\n",
    "    print(f'')\n",
    "\n",
    "    data    = [0.1, 0.2, 0.3, 0.4, 0.5, 0.6, 0.7, 0.8, 0.9, 1.0]\n",
    "    guesses = [0, 3, 6, 9, 12, 15]\n",
    "\n",
    "    for el in data:\n",
    "        print(f'scipy: {inv_foo(el)}')\n",
    "        for guess in guesses:\n",
    "            try: \n",
    "                print(f'mine: {newton.solve(el, guess)}')\n",
    "                break\n",
    "            except:\n",
    "                print(f'guess {guess} did not converge') \n",
    "        print('-'*200)"
   ]
  }
 ],
 "metadata": {
  "kernelspec": {
   "display_name": "Python 3",
   "language": "python",
   "name": "python3"
  },
  "language_info": {
   "codemirror_mode": {
    "name": "ipython",
    "version": 3
   },
   "file_extension": ".py",
   "mimetype": "text/x-python",
   "name": "python",
   "nbconvert_exporter": "python",
   "pygments_lexer": "ipython3",
   "version": "3.11.9"
  }
 },
 "nbformat": 4,
 "nbformat_minor": 2
}
