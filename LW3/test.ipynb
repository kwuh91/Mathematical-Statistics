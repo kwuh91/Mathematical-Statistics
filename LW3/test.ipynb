{
 "cells": [
  {
   "cell_type": "code",
   "execution_count": 18,
   "metadata": {},
   "outputs": [],
   "source": [
    "import math"
   ]
  },
  {
   "cell_type": "code",
   "execution_count": 19,
   "metadata": {},
   "outputs": [],
   "source": [
    "hashCheck = {}"
   ]
  },
  {
   "cell_type": "code",
   "execution_count": 20,
   "metadata": {},
   "outputs": [],
   "source": [
    "def middleSquare(seed, iterations):\n",
    "    seedSquared = seed**2\n",
    "    ssStr = str(seedSquared)\n",
    "\n",
    "    ssStrLen = len(ssStr)\n",
    "\n",
    "    borders = (ssStrLen - 6) // 2\n",
    "\n",
    "    generatedNumber = int(ssStr[borders:(ssStrLen-borders)])\n",
    "    \n",
    "    # print(iterations, generatedNumber)\n",
    "\n",
    "    if generatedNumber in hashCheck:\n",
    "        return iterations\n",
    "    else:\n",
    "        hashCheck[generatedNumber] = 1\n",
    "\n",
    "    return middleSquare(generatedNumber, iterations + 1)"
   ]
  },
  {
   "cell_type": "code",
   "execution_count": 21,
   "metadata": {},
   "outputs": [],
   "source": [
    "maxi = [0, 0] # iters num\n",
    "\n",
    "for i in range(50000, 60000):\n",
    "    # print('-'*200)\n",
    "    num = i\n",
    "    hashCheck.clear()\n",
    "\n",
    "    # print(f'number: {num}')\n",
    "    iterations = middleSquare(num, 0)\n",
    "    # print(f'iterations: {iterations}')\n",
    "\n",
    "    if iterations > maxi[0]:\n",
    "        maxi[0] = iterations\n",
    "        maxi[1] = num"
   ]
  },
  {
   "cell_type": "code",
   "execution_count": 22,
   "metadata": {},
   "outputs": [
    {
     "data": {
      "text/plain": [
       "[1783, 51375]"
      ]
     },
     "execution_count": 22,
     "metadata": {},
     "output_type": "execute_result"
    }
   ],
   "source": [
    "maxi"
   ]
  },
  {
   "cell_type": "code",
   "execution_count": 23,
   "metadata": {},
   "outputs": [],
   "source": [
    "# [1789, 86626]"
   ]
  },
  {
   "cell_type": "code",
   "execution_count": 24,
   "metadata": {},
   "outputs": [],
   "source": [
    "class LCG:\n",
    "    def __init__(self, seed, a=561860773102413563, c=0, m=2**60-93):\n",
    "        self.seed = seed\n",
    "        self.a = a\n",
    "        self.c = c\n",
    "        self.m = m\n",
    "        self.state = seed\n",
    "\n",
    "    def next(self):\n",
    "        self.state = (self.a * self.state + self.c) % self.m\n",
    "        return self.state / self.m  # Нормализация к диапазону [0, 1)\n",
    "    \n",
    "    def next_in_range(self, a, b):\n",
    "        return a + (b - a) * self.next()"
   ]
  },
  {
   "cell_type": "code",
   "execution_count": 25,
   "metadata": {},
   "outputs": [
    {
     "data": {
      "text/plain": [
       "0.9998876721170414"
      ]
     },
     "execution_count": 25,
     "metadata": {},
     "output_type": "execute_result"
    }
   ],
   "source": [
    "lcg = LCG(seed=42)\n",
    "\n",
    "import numpy as np\n",
    "\n",
    "def monteCarlo(func, a, b, N=1000):\n",
    "    return (b - a)/N * sum([func(lcg.next_in_range(a, b)) for _ in range(N)])\n",
    "\n",
    "def func(x):\n",
    "    return math.exp(-x)\n",
    "    # return (math.sqrt(math.sin(x)))/(math.sqrt(math.sin(x)) + math.sqrt(math.cos(x))) * math.exp(np.emath.logn(x**2+x+1, x**3))\n",
    "\n",
    "def func2(u):\n",
    "    return func(math.tan(u)) * (1/math.cos(u))**2\n",
    "\n",
    "# monteCarlo(func, 25.3, 26.7, 10000000) \n",
    "# 3.3177 - ans\n",
    "# 3.317644(3m47.8s) - numpy random uniform N = 10000000\n",
    "# 3.317879(3m31.5s) - LCG                  N = 10000000\n",
    "\n",
    "# monteCarlo(func, 0, 1 * 10**3, 10000000) \n",
    "monteCarlo(func2, 0, math.pi / 2, 10000000) "
   ]
  },
  {
   "cell_type": "code",
   "execution_count": null,
   "metadata": {},
   "outputs": [],
   "source": [
    "    # def substitutedFunction(v): # g\n",
    "    #     return initialFunction(math.tan(v)) * (1/math.cos(v))**2\n",
    "\n",
    "    # x = 123\n",
    "    # print(monteCarlo.integrate(substitutedFunction, -math.pi/2, math.atan(x)))\n",
    "    \n",
    "    # fooVals = []\n",
    "    # myVals  = []\n",
    "    # for i in range(50, 60):\n",
    "    #     fooVals.append(foo(i))\n",
    "    #     myVals.append(monteCarlo.integrate(substitutedFunction, -math.pi/2, math.atan(i)))\n",
    "\n",
    "    # print(fooVals)\n",
    "    # print(myVals)\n",
    "\n",
    "\n",
    "    # def func(x):\n",
    "    #     return 1/2 * (50/x)**26\n",
    "    #     # return math.exp(-x)\n",
    "    #     # return (math.sqrt(math.sin(x)))/(math.sqrt(math.sin(x)) + math.sqrt(math.cos(x))) * math.exp(np.emath.logn(x**2+x+1, x**3))\n",
    "\n",
    "\n",
    "    # def func2(u):\n",
    "    #     return func(math.tan(u)) * (1/math.cos(u))**2\n",
    "\n",
    "    # print(monteCarlo.integrate(substitutedFunction, -math.pi/2, math.atan(60)))\n",
    "\n",
    "    # print(monteCarlo.integrate(func2, -math.pi/2, math.atan(60)))"
   ]
  }
 ],
 "metadata": {
  "kernelspec": {
   "display_name": "Python 3",
   "language": "python",
   "name": "python3"
  },
  "language_info": {
   "codemirror_mode": {
    "name": "ipython",
    "version": 3
   },
   "file_extension": ".py",
   "mimetype": "text/x-python",
   "name": "python",
   "nbconvert_exporter": "python",
   "pygments_lexer": "ipython3",
   "version": "3.11.9"
  }
 },
 "nbformat": 4,
 "nbformat_minor": 2
}
