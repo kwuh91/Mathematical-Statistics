{
 "cells": [
  {
   "cell_type": "code",
   "execution_count": 667,
   "metadata": {},
   "outputs": [],
   "source": [
    "import math"
   ]
  },
  {
   "cell_type": "code",
   "execution_count": 668,
   "metadata": {},
   "outputs": [],
   "source": [
    "class LCG:\n",
    "    def __init__(self, seed, a=561860773102413563, c=0, m=2**60-93):\n",
    "        self.seed = seed\n",
    "        self.a = a\n",
    "        self.c = c\n",
    "        self.m = m\n",
    "        self.state = seed\n",
    "\n",
    "    def next(self):\n",
    "        self.state = (self.a * self.state + self.c) % self.m\n",
    "        return self.state / self.m  # Normalize to [0, 1)\n",
    "    \n",
    "    def next_in_range(self, a, b):\n",
    "        return a + (b - a) * self.next()"
   ]
  },
  {
   "cell_type": "code",
   "execution_count": 669,
   "metadata": {},
   "outputs": [],
   "source": [
    "class MonteCarlo:\n",
    "    def __init__(self, N, PRNG_object):\n",
    "        self.N = N\n",
    "        self.PRNG = PRNG_object\n",
    "    \n",
    "    def integrate(self, f, a, b):\n",
    "        mult = (b - a) / self.N\n",
    "        \n",
    "        generatedValues = []\n",
    "        for _ in range(self.N):\n",
    "            randomArg = self.PRNG.next_in_range(a, b)\n",
    "            randomFuncVal = f(randomArg)\n",
    "\n",
    "            generatedValues.append(randomFuncVal)\n",
    "        \n",
    "        return mult * sum(generatedValues)"
   ]
  },
  {
   "cell_type": "code",
   "execution_count": 670,
   "metadata": {},
   "outputs": [],
   "source": [
    "class CDM:\n",
    "    def __init__(self, h):\n",
    "        self.h = h\n",
    "    \n",
    "    def diff(self, f, x):\n",
    "        numerator = f(x + self.h) - f(x - self.h)\n",
    "        denominator = 2 * self.h\n",
    "\n",
    "        return numerator / denominator"
   ]
  },
  {
   "cell_type": "code",
   "execution_count": 671,
   "metadata": {},
   "outputs": [],
   "source": [
    "class Newton:\n",
    "    def __init__(self, f, CDM_object, tol=1e-6, max_iter=1000):\n",
    "        self.f = f\n",
    "        self.CDM = CDM_object\n",
    "        self.tol = tol \n",
    "        self.max_iter = max_iter\n",
    "\n",
    "    def solve(self, y, x0):\n",
    "        x = x0\n",
    "        for _ in range(self.max_iter):\n",
    "            f_x = self.f(x) - y\n",
    "            f_prime_x = self.CDM.diff(self.f, x)\n",
    "            if abs(f_prime_x) < 1e-10:\n",
    "                raise ValueError(\"Derivative is zero, method fails.\")\n",
    "            x_new = x - f_x / f_prime_x\n",
    "            if abs(x_new - x) < self.tol:\n",
    "                return x_new\n",
    "            x = x_new\n",
    "        # return x_new\n",
    "        raise ValueError(f\"Method did not converge.({x_new})\")"
   ]
  },
  {
   "cell_type": "code",
   "execution_count": 672,
   "metadata": {},
   "outputs": [],
   "source": [
    "if __name__ == '__main__':\n",
    "    lcg        = LCG(seed=42)\n",
    "    monteCarlo = MonteCarlo(100000, lcg)\n",
    "    \n",
    "    def pdf(x): # f_X\n",
    "        return 1 / (math.sqrt(0.4 * math.pi) * x) \\\n",
    "            * math.exp(-(math.log(x) - 2)**2 / 0.4)\n",
    "\n",
    "    def cdf(x): # F_X\n",
    "        return monteCarlo.integrate(pdf, 0, x)\n",
    "\n",
    "    cdm = CDM(h=1e-6)\n",
    "    newton = Newton(cdf, cdm, 0.001, 100)\n",
    "\n",
    "    def inverse(y, x0): # x = f^-1(y)\n",
    "        return newton.solve(y, x0)"
   ]
  },
  {
   "cell_type": "code",
   "execution_count": 673,
   "metadata": {},
   "outputs": [],
   "source": [
    "def foo(x):\n",
    "    return 1 - (50/x)**(25)\n",
    "\n",
    "def inv_foo(y):\n",
    "    return 50 / ((1 - y)**(1/25))"
   ]
  },
  {
   "cell_type": "code",
   "execution_count": 674,
   "metadata": {},
   "outputs": [
    {
     "name": "stdout",
     "output_type": "stream",
     "text": [
      "0.3904691294717214   0.3903659380649333\n",
      "0.6248831977460355   0.6238114760128302\n",
      "0.7670013694961044   0.7671979098566637\n",
      "0.8539820950870863   0.8548339549781164\n",
      "0.9077040018229359   0.9078868064569301\n",
      "0.9411766934477461   0.93676785737656\n",
      "0.962209841226469   0.9604220950801329\n",
      "0.9755347155613031   0.97645330210309\n",
      "0.9840430524567241   0.9834782007801411\n",
      "--------------------------------------------------------------------------------------------------------------------------------------------------------------------------------------------------------\n",
      "50.884746556271914\n"
     ]
    },
    {
     "ename": "ValueError",
     "evalue": "Method did not converge.(51.328430015992)",
     "output_type": "error",
     "traceback": [
      "\u001b[1;31m---------------------------------------------------------------------------\u001b[0m",
      "\u001b[1;31mValueError\u001b[0m                                Traceback (most recent call last)",
      "Cell \u001b[1;32mIn[674], line 23\u001b[0m\n\u001b[0;32m     20\u001b[0m \u001b[38;5;28mprint\u001b[39m(\u001b[38;5;124mf\u001b[39m\u001b[38;5;124m'\u001b[39m\u001b[38;5;124m-\u001b[39m\u001b[38;5;124m'\u001b[39m\u001b[38;5;241m*\u001b[39m\u001b[38;5;241m200\u001b[39m)\n\u001b[0;32m     22\u001b[0m \u001b[38;5;28mprint\u001b[39m(inv_foo(\u001b[38;5;241m0.355\u001b[39m))\n\u001b[1;32m---> 23\u001b[0m \u001b[38;5;28mprint\u001b[39m(\u001b[43minverse\u001b[49m\u001b[43m(\u001b[49m\u001b[38;5;241;43m0.355\u001b[39;49m\u001b[43m,\u001b[49m\u001b[43m \u001b[49m\u001b[38;5;241;43m50\u001b[39;49m\u001b[43m)\u001b[49m)\n",
      "Cell \u001b[1;32mIn[674], line 18\u001b[0m, in \u001b[0;36minverse\u001b[1;34m(y, x0)\u001b[0m\n\u001b[0;32m     17\u001b[0m \u001b[38;5;28;01mdef\u001b[39;00m \u001b[38;5;21minverse\u001b[39m(y, x0): \u001b[38;5;66;03m# x = f^-1(y)\u001b[39;00m\n\u001b[1;32m---> 18\u001b[0m     \u001b[38;5;28;01mreturn\u001b[39;00m \u001b[43mnewton\u001b[49m\u001b[38;5;241;43m.\u001b[39;49m\u001b[43msolve\u001b[49m\u001b[43m(\u001b[49m\u001b[43my\u001b[49m\u001b[43m,\u001b[49m\u001b[43m \u001b[49m\u001b[43mx0\u001b[49m\u001b[43m)\u001b[49m\n",
      "Cell \u001b[1;32mIn[671], line 20\u001b[0m, in \u001b[0;36mNewton.solve\u001b[1;34m(self, y, x0)\u001b[0m\n\u001b[0;32m     18\u001b[0m     x \u001b[38;5;241m=\u001b[39m x_new\n\u001b[0;32m     19\u001b[0m \u001b[38;5;66;03m# return x_new\u001b[39;00m\n\u001b[1;32m---> 20\u001b[0m \u001b[38;5;28;01mraise\u001b[39;00m \u001b[38;5;167;01mValueError\u001b[39;00m(\u001b[38;5;124mf\u001b[39m\u001b[38;5;124m\"\u001b[39m\u001b[38;5;124mMethod did not converge.(\u001b[39m\u001b[38;5;132;01m{\u001b[39;00mx_new\u001b[38;5;132;01m}\u001b[39;00m\u001b[38;5;124m)\u001b[39m\u001b[38;5;124m\"\u001b[39m)\n",
      "\u001b[1;31mValueError\u001b[0m: Method did not converge.(51.328430015992)"
     ]
    }
   ],
   "source": [
    "if __name__ == '__main__':\n",
    "    lcg        = LCG(seed=42)\n",
    "    monteCarlo = MonteCarlo(100000, lcg)\n",
    "    \n",
    "    def pdf(x): # f_X\n",
    "        return (1 / 2) * (50 / x)**(26)\n",
    "\n",
    "    def cdf(x): # F_X\n",
    "        return monteCarlo.integrate(pdf, 50, x)\n",
    "\n",
    "    for i in range(51, 60):\n",
    "        print(f'{foo(i)}   {cdf(i)}')\n",
    "\n",
    "    cdm    = CDM(h=1e-6)\n",
    "    newton = Newton(cdf, cdm, tol=1e-6, max_iter=1000)\n",
    "\n",
    "    def inverse(y, x0): # x = f^-1(y)\n",
    "        return newton.solve(y, x0)\n",
    "\n",
    "    print(f'-'*200)\n",
    "\n",
    "    print(inv_foo(0.355))\n",
    "    print(inverse(0.355, 50))"
   ]
  },
  {
   "cell_type": "code",
   "execution_count": null,
   "metadata": {},
   "outputs": [],
   "source": [
    "def foo(x):\n",
    "    # return math.sin(x)\n",
    "    return x**3 - 2 * x - 5\n",
    "\n",
    "def inv_foo(y):\n",
    "    return math.asin(y)"
   ]
  },
  {
   "cell_type": "code",
   "execution_count": null,
   "metadata": {},
   "outputs": [
    {
     "name": "stdout",
     "output_type": "stream",
     "text": [
      "foo: 20.008667371359\n",
      "3.1515882293555033\n"
     ]
    }
   ],
   "source": [
    "if __name__ == '__main__':\n",
    "    lcg        = LCG(seed=42)\n",
    "    monteCarlo = MonteCarlo(100000, lcg)\n",
    "    \n",
    "    def pdf(x): # f_X\n",
    "        # return 1 / (math.sqrt(0.4 * math.pi) * x) \\\n",
    "        #     * math.exp(-(math.log(x) - 2)**2 / 0.4)\n",
    "        return (1 / 2) * (50 / x)**(26)\n",
    "\n",
    "    def cdf(x): # F_X\n",
    "        # return monteCarlo.integrate(pdf, 0, x)\n",
    "        return monteCarlo.integrate(pdf, 50, x)\n",
    "\n",
    "    # for i in range(51, 60):\n",
    "    #     print(f'{foo(i)}   {cdf(i)}')\n",
    "\n",
    "    cdm    = CDM(h=1e-6)\n",
    "    newton = Newton(foo, cdm, 0.0001, 100)\n",
    "\n",
    "    def inverse(y, x0): # x = f^-1(y)\n",
    "        return newton.solve(y, x0)\n",
    "\n",
    "    print(f'foo: {foo(3.1519)}')\n",
    "    # print(f'cdf(51): {cdf(51)}')\n",
    "\n",
    "    # print(f'')\n",
    "\n",
    "    # print(inv_foo(0.625))\n",
    "    print(newton.solve(20, 0))"
   ]
  }
 ],
 "metadata": {
  "kernelspec": {
   "display_name": "Python 3",
   "language": "python",
   "name": "python3"
  },
  "language_info": {
   "codemirror_mode": {
    "name": "ipython",
    "version": 3
   },
   "file_extension": ".py",
   "mimetype": "text/x-python",
   "name": "python",
   "nbconvert_exporter": "python",
   "pygments_lexer": "ipython3",
   "version": "3.11.9"
  }
 },
 "nbformat": 4,
 "nbformat_minor": 2
}
