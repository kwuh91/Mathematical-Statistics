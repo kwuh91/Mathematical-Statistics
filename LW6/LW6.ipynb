{
 "cells": [
  {
   "cell_type": "code",
   "execution_count": 543,
   "metadata": {},
   "outputs": [],
   "source": [
    "import numpy as np\n",
    "from IPython.display import Math, display\n",
    "import matplotlib.pyplot as plt"
   ]
  },
  {
   "cell_type": "code",
   "execution_count": 544,
   "metadata": {},
   "outputs": [
    {
     "data": {
      "text/plain": [
       "[-3.442,\n",
       " 8.202,\n",
       " 5.741,\n",
       " 2.504,\n",
       " 3.752,\n",
       " 0.896,\n",
       " 4.562,\n",
       " 3.044,\n",
       " 3.373,\n",
       " 1.735,\n",
       " 1.295,\n",
       " 0.605,\n",
       " 6.951,\n",
       " 4.212,\n",
       " 4.582,\n",
       " 0.839,\n",
       " 1.915,\n",
       " 5.452,\n",
       " 5.415,\n",
       " -3.277,\n",
       " 3.672,\n",
       " -2.011,\n",
       " 3.417,\n",
       " -2.021,\n",
       " 3.601,\n",
       " 4.309,\n",
       " 4.243,\n",
       " 2.957,\n",
       " 4.093,\n",
       " 5.101,\n",
       " 2.354,\n",
       " 3.375,\n",
       " 2.991,\n",
       " 1.891,\n",
       " 0.934,\n",
       " 2.793,\n",
       " 4.495,\n",
       " 7.862,\n",
       " 5.407,\n",
       " 1.43,\n",
       " 5.238,\n",
       " 3.767,\n",
       " 5.599,\n",
       " 3.689,\n",
       " 2.785,\n",
       " 7.233,\n",
       " 0.648,\n",
       " 4.61,\n",
       " 0.501,\n",
       " 3.494,\n",
       " 1.136,\n",
       " 1.068,\n",
       " 4.896,\n",
       " 5.366,\n",
       " 3.294,\n",
       " 0.95,\n",
       " 5.34,\n",
       " 1.317,\n",
       " 2.135,\n",
       " 0.545,\n",
       " 4.421,\n",
       " 2.928,\n",
       " 9.197,\n",
       " 3.117,\n",
       " 4.695,\n",
       " 5.228,\n",
       " 3.294,\n",
       " 5.383,\n",
       " 1.957,\n",
       " 4.699,\n",
       " 2.071,\n",
       " -0.276,\n",
       " 3.823,\n",
       " 4.641,\n",
       " 1.092,\n",
       " 1.28,\n",
       " 2.791,\n",
       " 3.205,\n",
       " 0.826,\n",
       " 3.44,\n",
       " 0.269,\n",
       " 4.924,\n",
       " 1.827,\n",
       " 2.968,\n",
       " 3.155,\n",
       " 5.19,\n",
       " 6.805,\n",
       " -1.022,\n",
       " 5.34,\n",
       " 2.85,\n",
       " 0.894,\n",
       " 3.31,\n",
       " 5.389,\n",
       " 4.645,\n",
       " 4.352,\n",
       " 0.972,\n",
       " 3.474,\n",
       " 3.602,\n",
       " 3.759,\n",
       " 4.33]"
      ]
     },
     "execution_count": 544,
     "metadata": {},
     "output_type": "execute_result"
    }
   ],
   "source": [
    "# # Obla\n",
    "# data_ = np.array([\n",
    "#     [-10.038, -5.731, -3.571, -4.769, -2.148, -5.876, -2.890, -5.026, -6.664, -6.096],\n",
    "#     [0.547, -6.359, -8.738, -3.841, -3.484, -5.938, -4.247, -7.160, -2.433, -3.900],\n",
    "#     [-1.690, -0.590, -3.802, -4.190, -1.819, -2.458, 1.452, -3.434, -5.249, -2.010],\n",
    "#     [-4.633, -3.080, -8.746, -5.190, -3.556, -2.031, -4.076, -2.690, -4.211, -2.686],\n",
    "#     [-3.498, -2.744, -3.635, -6.060, -4.377, -3.914, -2.641, -5.916, -4.041, -2.953],\n",
    "#     [-6.094, -6.146, -2.992, -4.370, -0.334, -6.045, -2.156, -5.746, -2.191, -6.026],\n",
    "#     [-2.762, -5.168, -3.052, -2.823, -6.320, -2.055, -3.915, -4.372, -0.723, -3.751],\n",
    "#     [-4.142, -1.953, -4.221, 0.238, -2.718, -5.712, -2.016, -3.995, -7.838, -3.634],\n",
    "#     [-3.843, -1.986, -3.188, -1.993, -6.454, -4.969, -5.130, -6.158, -2.055, -3.492],\n",
    "#     [-5.332, -9.888, -2.272, -5.609, -3.733, -6.413, -2.637, -3.782, -4.319, -2.973],\n",
    "#     [-4.319, -3.607, -3.343, -3.979, -2.975, -5.756, -5.843, -4.214, -6.592, -6.628],\n",
    "#     [-1.026, -1.497, -5.495, -4.451, -3.347, -4.243, -3.505, -1.886, -3.364, -3.669]\n",
    "# ])\n",
    "\n",
    "# mine\n",
    "data_ = np.array([\n",
    "    [-3.442, 1.295, 3.672, 2.354, 5.238, 1.136, 4.421, 2.071, 0.269, 0.894],\n",
    "    [8.202, 0.605, -2.011, 3.375, 3.767, 1.068, 2.928, -0.276, 4.924, 3.31],\n",
    "    [5.741, 6.951, 3.417, 2.991, 5.599, 4.896, 9.197, 3.823, 1.827, 5.389],\n",
    "    [2.504, 4.212, -2.021, 1.891, 3.689, 5.366, 3.117, 4.641, 2.968, 4.645],\n",
    "    [3.752, 4.582, 3.601, 0.934, 2.785, 3.294, 4.695, 1.092, 3.155, 4.352],\n",
    "    [0.896, 0.839, 4.309, 2.793, 7.233, 0.95, 5.228, 1.28, 5.19, 0.972],\n",
    "    [4.562, 1.915, 4.243, 4.495, 0.648, 5.34, 3.294, 2.791, 6.805, 3.474],\n",
    "    [3.044, 5.452, 2.957, 7.862, 4.61, 1.317, 5.383, 3.205, -1.022, 3.602],\n",
    "    [3.373, 5.415, 4.093, 5.407, 0.501, 2.135, 1.957, 0.826, 5.34, 3.759],\n",
    "    [1.735, -3.277, 5.101, 1.43, 3.494, 0.545, 4.699, 3.44, 2.85, 4.33]\n",
    "])\n",
    "\n",
    "# # nikisha\n",
    "# data_ = np.array([\n",
    "#     [-7.057, -0.597, 2.644, 0.847, 4.779, -0.814, 3.664, 0.461, -1.996, -1.144],\n",
    "#     [8.821, -1.539, -5.106, 2.238, 2.774, -0.907, 1.629, -2.74, 4.35, 2.15],\n",
    "#     [5.465, 7.115, 2.296, 1.714, 5.271, 4.313, 10.178, 2.85, 0.127, 4.985],\n",
    "#     [1.051, 3.38, -5.12, 0.215, 2.667, 4.954, 1.887, 3.965, 1.683, 3.971],\n",
    "#     [2.753, 3.884, 2.547, -1.089, 1.434, 2.129, 4.038, -0.874, 1.939, 3.571],\n",
    "#     [-1.141, -1.219, 3.512, 1.444, 7.499, -1.068, 4.765, -0.619, 4.714, -1.039],\n",
    "#     [3.857, 0.248, 3.422, 3.766, -1.48, 4.918, 2.128, 1.442, 6.915, 2.374],\n",
    "#     [1.787, 5.07, 1.669, 8.357, 3.922, -0.568, 4.976, 2.007, -3.757, 2.549],\n",
    "#     [2.236, 5.021, 3.218, 5.01, -1.68, 0.547, 0.305, -1.237, 4.918, 2.762],\n",
    "#     [0.00214, -6.832, 4.592, -0.413, 2.401, -1.62, 4.044, 2.327, 1.522, 3.541]\n",
    "# ])\n",
    "\n",
    "# # pasha\n",
    "# data_ = np.array([\n",
    "#     [-7.934, -4.058, -2.114, -3.192, -0.833, -4.188, -1.501, -3.423, -4.898, -4.386],\n",
    "#     [1.593, -4.623, -6.764, -2.357, -2.036, -4.244, -2.723, -5.344, -1.09, -2.41],\n",
    "#     [-0.421, 0.569, -2.322, -2.671, -0.537, -1.112, 2.407, -1.99, -3.624, -0.709],\n",
    "#     [-3.069, -1.672, -6.772, -3.571, -2.1, -0.728, -2.568, -1.321, -2.69, -1.317],\n",
    "#     [-2.048, -1.37, -2.172, -4.354, -2.84, -2.423, -1.277, -4.225, -2.537, -1.557],\n",
    "#     [-4.385, -4.432, -1.593, -2.833, 0.8, -4.341, -0.841, -4.071, -0.872, -4.323],\n",
    "#     [-1.386, -3.551, -1.647, -1.441, -4.588, -0.749, -2.423, -2.835, 0.449, -2.276],\n",
    "#     [-2.628, -0.658, -2.699, 1.314, -1.347, -4.041, -0.714, -2.496, -5.954, -2.171]\n",
    "# ])\n",
    "\n",
    "# # yanovich\n",
    "# data_ = np.array([\n",
    "#     [1.665, 3.109, 0.629, 3.167, 3.069, 2.431, -0.012, 3.094, 2.323, -0.099],\n",
    "#     [4.453, 1.686, 0.118, 2.631, 1.185, 0.648, 1.541, 2.532, 2.059, 0.239],\n",
    "#     [2.056, 2.924, 2.51, 1.534, 1.059, 1.482, 1.346, 2.134, 1.95, 1.147],\n",
    "#     [0.857, 0.039, -1.114, 0.18, 2.95, 3.175, 0.964, 2.275, 1.49, 0.605],\n",
    "#     [1.367, 3.323, 1.614, -1.329, 2.814, -0.05, 0.65, 1.801, 3.333, 1.787],\n",
    "#     [2.195, 0.825, 1.703, 2.494, 0.06, 1.671, 3.048, 1.175, 3.6, 0.148],\n",
    "#     [1.617, 0.61, 2.472, 0.784, 0.899, 1.057, 1.035, 2.176, 2.012, 1.381],\n",
    "#     [2.264, 0.617, 1.949, 2.242, 1.672, 0.792, 1.951, 1.168, 1.565, 1.839],\n",
    "#     [1.794, 2.002, 3.219, 1.404, 3.051, 1.804, 1.607, 1.7, 1.796, 1.578],\n",
    "#     [2.651, 2.418, 2.867, 2.635, 1.916, 2.489, 2.899, 1.419, 2.949, 2.056],\n",
    "#     [-0.81, 2.239, 1.777, 3.89, 1.857, 1.006, 1.179, 1.741, 2.577, 1.739],\n",
    "#     [1.484, 2.674, 2.466, 1.262, 5.006, 2.543, 2.272, 1.557, 2.023, 3.458],\n",
    "#     [2.744, 4.606, 1.144, 2.947, 2.914, 1.942, 3.537, -0.117, 1.215, 2.774],\n",
    "#     [3.033, 0.974, 2.613, 0.524, 0.749, 2.845, 2.6, 2.045, 2.947, 2.648],\n",
    "#     [2.187, 1.516, 1.933, 0.733, 1.23, 1.898, 2.709, 1.629, 1.28, 2.927]\n",
    "# ])\n",
    "\n",
    "# # markevich\n",
    "# data_ = np.array([\n",
    "#     [-3.442, 8.202, 5.741, 2.504, 3.752, 0.896, 4.562, 3.044, 3.373, 1.735],\n",
    "#     [1.295, 0.605, 6.951, 4.212, 4.582, 0.839, 1.915, 5.452, 5.415, -3.277],\n",
    "#     [3.672, -2.011, 3.417, -2.021, 3.601, 4.309, 4.243, 2.957, 4.093, 5.101],\n",
    "#     [2.354, 3.375, 2.991, 1.891, 0.934, 2.793, 4.495, 7.862, 5.407, 1.430],\n",
    "#     [5.238, 3.767, 5.599, 3.689, 2.785, 7.233, 0.648, 4.610, 0.501, 3.494],\n",
    "#     [1.136, 1.068, 4.896, 5.366, 3.294, 0.950, 5.340, 1.317, 2.135, 0.545],\n",
    "#     [4.421, 2.928, 9.197, 3.117, 4.695, 5.228, 3.294, 5.383, 1.957, 4.699],\n",
    "#     [2.071, -0.276, 3.823, 4.641, 1.092, 1.280, 2.791, 3.205, 0.826, 3.440],\n",
    "#     [0.269, 4.924, 1.827, 2.968, 3.155, 5.190, 6.805, -1.022, 5.340, 2.850],\n",
    "#     [0.894, 3.310, 5.389, 4.645, 4.352, 0.972, 3.474, 3.602, 3.759, 4.330]\n",
    "# ])\n",
    "\n",
    "data_ = data_.T\n",
    "new_data_ = []\n",
    "\n",
    "for i in range(len(data_)):\n",
    "    for j in range(len(data_[i])):\n",
    "        new_data_.append(data_[i][j])\n",
    "\n",
    "data_ = new_data_\n",
    "data_"
   ]
  },
  {
   "cell_type": "code",
   "execution_count": 545,
   "metadata": {},
   "outputs": [],
   "source": [
    "# # Obla\n",
    "# alpha = 0.05\n",
    "# a0 = -3.5\n",
    "# sigma0 = 2\n",
    "# a1 = -4\n",
    "# sigma1 = 2\n",
    "# epsilon = 0.1\n",
    "# n = 120\n",
    "# beta = 0.137\n",
    "# overlineX = -4.01523\n",
    "# S2 = 3.91551\n",
    "# C1 = -3.8\n",
    "\n",
    "# mine\n",
    "alpha = 0.1\n",
    "a0 = 3\n",
    "sigma0 = 2.1\n",
    "a1 = 3.5\n",
    "sigma1 = 2.2\n",
    "epsilon = 0.1\n",
    "n = 100\n",
    "beta = 0.1608\n",
    "C1 = 3.2819\n",
    "\n",
    "# # nikisha (C ???)\n",
    "# alpha = 0.1\n",
    "# a0 = 1.8\n",
    "# sigma0 = 3\n",
    "# a1 = 2.4\n",
    "# sigma1 = 3\n",
    "# epsilon = 0.15\n",
    "# n = 100\n",
    "# beta = 0.236\n",
    "# overlineX = 1.969\n",
    "# S2 = 9.563\n",
    "# C1 = 2.185\n",
    "\n",
    "# # pasha\n",
    "# alpha = 0.05\n",
    "# a0 = -2\n",
    "# sigma0 = 1.7\n",
    "# a1 = -2.5\n",
    "# sigma1 = 1.75\n",
    "# epsilon = 0.1\n",
    "# n = 80\n",
    "# beta = 0.181239\n",
    "# C1 = -2.321825\n",
    "\n",
    "# # yanovich\n",
    "# alpha = 0.04\n",
    "# a0 = 2\n",
    "# sigma0 = 1.2\n",
    "# a1 = 1.7\n",
    "# sigma1 = 1\n",
    "# epsilon = 0.05\n",
    "# n = 150\n",
    "# beta = 0.0272\n",
    "# C1 = 1.84089\n",
    "\n",
    "# # markevich\n",
    "# alpha = 0.1\n",
    "# a0 = 3\n",
    "# sigma0 = 2.1\n",
    "# a1 = 3.5\n",
    "# sigma1 = 2.2\n",
    "# epsilon = 0.1\n",
    "# n = 100\n",
    "# beta = 0.1608\n",
    "# C1 = 3.28194"
   ]
  },
  {
   "cell_type": "code",
   "execution_count": 546,
   "metadata": {},
   "outputs": [],
   "source": [
    "def decorate_plot(ax, x_ticks, xname, yname, loc=(-0.025, -0.3)):\n",
    "    SIZE_TICKS = 10\n",
    "\n",
    "    # Eliminate upper and right axes\n",
    "    ax.spines['right'].set_color('none')\n",
    "    ax.spines['top'].set_color('none')\n",
    "\n",
    "    # Show ticks in the left and lower axes only\n",
    "    ax.xaxis.set_ticks_position('bottom')\n",
    "    ax.yaxis.set_ticks_position('left')\n",
    "\n",
    "    # axis names\n",
    "    ax.set_xlabel(xname, fontsize=15)\n",
    "    ax.xaxis.set_label_coords(0.98, 0.05)\n",
    "\n",
    "    ax.set_ylabel(yname, rotation=0, fontsize=15)\n",
    "    ax.yaxis.set_label_coords(0.025, 0.95)\n",
    "\n",
    "    ax.set_xticks(x_ticks)\n",
    "\n",
    "    # Adjust the font size of the tick labels\n",
    "    ax.tick_params(axis='both', which='major', labelsize=SIZE_TICKS)\n",
    "\n",
    "    plt.legend(fontsize=10, loc=loc)\n",
    "\n",
    "    # Update font settings\n",
    "    plt.rcParams.update({'font.family': 'serif', 'font.size': 12})\n",
    "\n",
    "    # Adjust layout\n",
    "    plt.tight_layout()"
   ]
  },
  {
   "cell_type": "code",
   "execution_count": 547,
   "metadata": {},
   "outputs": [
    {
     "name": "stdout",
     "output_type": "stream",
     "text": [
      "A: 8.392\n",
      "B: 0.17866666666666667\n"
     ]
    }
   ],
   "source": [
    "A_ = (1 - beta)/alpha\n",
    "B_ = beta/(1 - alpha)\n",
    "\n",
    "print(f'A: {A_}')\n",
    "print(f'B: {B_}')"
   ]
  },
  {
   "cell_type": "code",
   "execution_count": 548,
   "metadata": {},
   "outputs": [],
   "source": [
    "def Z(j):\n",
    "    res = 1\n",
    "    for i in range(0, j + 1):\n",
    "        res *= np.exp((a0**2 - a1**2)/(2*sigma1**2) + (a1 - a0)/sigma1**2 * data_[i])\n",
    "    return res"
   ]
  },
  {
   "cell_type": "code",
   "execution_count": 549,
   "metadata": {},
   "outputs": [
    {
     "data": {
      "image/png": "[encoded data removed]",
      "text/plain": [
       "<Figure size 1000x600 with 1 Axes>"
      ]
     },
     "metadata": {},
     "output_type": "display_data"
    }
   ],
   "source": [
    "def buildBar(filename):\n",
    "    RED = '#6F1D1B'\n",
    "\n",
    "    _, ax = plt.subplots(figsize=(10, 6))\n",
    "\n",
    "    x_values = np.arange(0, n)\n",
    "    y_values = [Z(int(x)) for x in x_values]\n",
    "\n",
    "    ax.plot(x_values, \n",
    "           y_values, \n",
    "           color=RED, \n",
    "           linestyle='-', \n",
    "           linewidth=1.5,\n",
    "           label='Z(j)')\n",
    "    \n",
    "    ax.axhline(y=A_, color='green', linestyle='--', label=f'A')\n",
    "    ax.axhline(y=B_, color='blue', linestyle='--', label=f'B')\n",
    "\n",
    "    decorate_plot(ax, np.arange(0,n + 10,10), 'j', '', loc='best')\n",
    "\n",
    "    # plt.savefig(f'{filename}.png', dpi=300, transparent=True)\n",
    "\n",
    "    plt.show()\n",
    "\n",
    "buildBar('iterative_crit_A_B')"
   ]
  },
  {
   "cell_type": "code",
   "execution_count": 550,
   "metadata": {},
   "outputs": [
    {
     "data": {
      "text/latex": [
       "$\\displaystyle M_0 = -0.025826446280991733$"
      ],
      "text/plain": [
       "<IPython.core.display.Math object>"
      ]
     },
     "metadata": {},
     "output_type": "display_data"
    },
    {
     "data": {
      "text/latex": [
       "$\\displaystyle M_{a_0}\\nu = 51.77956596360454$"
      ],
      "text/plain": [
       "<IPython.core.display.Math object>"
      ]
     },
     "metadata": {},
     "output_type": "display_data"
    }
   ],
   "source": [
    "M0_ = -(a1 - a0)**2/(2 * sigma1**2)\n",
    "Ma0nu_ = (alpha * np.log(A_) + (1 - alpha) * np.log(B_))/M0_\n",
    "\n",
    "display(Math(f'$M_0 = {M0_}$'))\n",
    "display(Math(f'$M_{{a_0}}\\\\nu = {Ma0nu_}$'))"
   ]
  },
  {
   "cell_type": "code",
   "execution_count": 551,
   "metadata": {},
   "outputs": [
    {
     "data": {
      "text/latex": [
       "$\\displaystyle M_1 = 0.025826446280991733$"
      ],
      "text/plain": [
       "<IPython.core.display.Math object>"
      ]
     },
     "metadata": {},
     "output_type": "display_data"
    },
    {
     "data": {
      "text/latex": [
       "$\\displaystyle M_{a_1}\\nu = 58.400496933803815$"
      ],
      "text/plain": [
       "<IPython.core.display.Math object>"
      ]
     },
     "metadata": {},
     "output_type": "display_data"
    }
   ],
   "source": [
    "M1_ = (a1 - a0)**2/(2 * sigma1**2)\n",
    "Ma1nu_ = (beta * np.log(B_) + (1 - beta) * np.log(A_))/M1_\n",
    "\n",
    "display(Math(f'$M_1 = {M1_}$'))\n",
    "display(Math(f'$M_{{a_1}}\\\\nu = {Ma1nu_}$'))"
   ]
  },
  {
   "cell_type": "code",
   "execution_count": 552,
   "metadata": {},
   "outputs": [
    {
     "data": {
      "text/plain": [
       "0.5"
      ]
     },
     "execution_count": 552,
     "metadata": {},
     "output_type": "execute_result"
    }
   ],
   "source": [
    "a1 - a0"
   ]
  },
  {
   "cell_type": "code",
   "execution_count": 553,
   "metadata": {},
   "outputs": [
    {
     "name": "stdout",
     "output_type": "stream",
     "text": [
      "C = 1.3903360138968528\n"
     ]
    }
   ],
   "source": [
    "C_ = np.exp((C1 * (a1 - a0) * n) / (sigma1**2) + n * (a0**2 - a1**2)/(2 * sigma1**2))\n",
    "\n",
    "print(f'C = {C_}')"
   ]
  },
  {
   "cell_type": "code",
   "execution_count": 554,
   "metadata": {},
   "outputs": [
    {
     "data": {
      "image/png": "[encoded data removed]",
      "text/plain": [
       "<Figure size 1000x600 with 1 Axes>"
      ]
     },
     "metadata": {},
     "output_type": "display_data"
    }
   ],
   "source": [
    "def buildBar(filename):\n",
    "    RED = '#6F1D1B'\n",
    "\n",
    "    _, ax = plt.subplots(figsize=(10, 6))\n",
    "\n",
    "    x_values = np.arange(0, n)\n",
    "    y_values = [Z(int(x)) for x in x_values]\n",
    "\n",
    "    ax.plot(x_values, \n",
    "           y_values, \n",
    "           color=RED, \n",
    "           linestyle='-', \n",
    "           linewidth=1.5,\n",
    "           label='Z(j)')\n",
    "    \n",
    "    ax.axhline(y=A_, color='green', linestyle='--', label=f'A')\n",
    "    ax.axhline(y=B_, color='blue', linestyle='--', label=f'B')\n",
    "    ax.axhline(y=C_, color='purple', linestyle='--', label=f'C')\n",
    "\n",
    "    decorate_plot(ax, np.arange(0,n + 10,10), 'j', '', loc='best')\n",
    "\n",
    "    # plt.savefig(f'{filename}.png', dpi=300, transparent=True)\n",
    "\n",
    "    plt.show()\n",
    "\n",
    "buildBar('iterative_crit_A_B_C')"
   ]
  },
  {
   "cell_type": "code",
   "execution_count": 555,
   "metadata": {},
   "outputs": [
    {
     "data": {
      "text/latex": [
       "$\\displaystyle \\frac{L(\\bar{X}_n, a_1, \\sigma_1)}{L(\\bar{X}_n, a_0, \\sigma_1)} = 0.4706616998029488$"
      ],
      "text/plain": [
       "<IPython.core.display.Math object>"
      ]
     },
     "metadata": {},
     "output_type": "display_data"
    }
   ],
   "source": [
    "likelihoodRatio_ = np.exp(n * (a0**2 - a1**2)/(2 * sigma1**2) + (a1 - a0)/sigma1**2 * np.sum(data_))\n",
    "display(Math(f'$$\\\\frac{{L(\\\\bar{{X}}_n, a_1, \\\\sigma_1)}}{{L(\\\\bar{{X}}_n, a_0, \\\\sigma_1)}} = {likelihoodRatio_}$$'))"
   ]
  }
 ],
 "metadata": {
  "kernelspec": {
   "display_name": "Python 3",
   "language": "python",
   "name": "python3"
  },
  "language_info": {
   "codemirror_mode": {
    "name": "ipython",
    "version": 3
   },
   "file_extension": ".py",
   "mimetype": "text/x-python",
   "name": "python",
   "nbconvert_exporter": "python",
   "pygments_lexer": "ipython3",
   "version": "3.11.9"
  }
 },
 "nbformat": 4,
 "nbformat_minor": 2
}
