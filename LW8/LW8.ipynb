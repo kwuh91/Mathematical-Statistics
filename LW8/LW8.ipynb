{
 "cells": [
  {
   "cell_type": "code",
   "execution_count": 438,
   "metadata": {},
   "outputs": [],
   "source": [
    "import numpy as np\n",
    "import scipy as sp\n",
    "import matplotlib.pyplot as plt"
   ]
  },
  {
   "cell_type": "code",
   "execution_count": 439,
   "metadata": {},
   "outputs": [],
   "source": [
    "# R[a, b]\n",
    "alpha_ = 0.01\n",
    "\n",
    "data_ = [\n",
    "    14.495, 4.715, 7.175, 8.428, 11.093, 3.375, 12.906, 8.415, 8.916, 13.48,\n",
    "    5.343, 17.985, 15.992, 13.89, 9.838, 13.924, 9.012, 9.458, 17.69, 6.542,\n",
    "    14.396, 8.592, 8.206, 14.237, 7.357, 10.821, 12.767, 16.058, 12.959, 4.354,\n",
    "    12.888, 10.268, 9.182, 5.647, 8.282, 2.903, 15.988, 12.959, 14.919, 6.339,\n",
    "    2.375, 17.921, 9.097, 15.85, 11.449, 11.095, 9.493, 12.175, 7.479, 13.535,\n",
    "    9.234, 6.078, 4.964, 6.355, 13.957, 12.911, 15.694, 14.286, 9.869, 5.175,\n",
    "    5.811, 7.241, 5.814, 3.086, 6.875, 3.878, 5.333, 15.134, 12.924, 9.159,\n",
    "    4.727, 4.646, 15.535, 9.919, 17.117, 10.351, 16.892, 12.423, 10.511, 4.942,\n",
    "    4.843, 9.927, 15.864, 3.635, 17.963, 8.25, 5.14, 6.734, 12.622, 13.325,\n",
    "    3.377, 16.195, 12.04, 12.768, 2.744, 14.186, 9.354, 15.439, 14.612, 15.649,\n",
    "    8.681, 5.006, 3.608, 2.867, 12.177, 15.506, 7.683, 14.022, 17.103, 8.905,\n",
    "    12.173, 17.757, 6.883, 2.666, 9.861, 5.743, 16.175, 15.308, 7.039, 15.238\n",
    "]\n",
    "\n",
    "# data_ = [\n",
    "#     -9.295, -3.358, 2.066, 7.274, -1.696, 4.747, -4.754, -6.652, 7.84, -5.289,\n",
    "#     -5.069, -4.103, -2.936, -5.437, 7.91, 6.804, 9.949, -6.66, -4.955, 9.623,\n",
    "#     0.519, -4.46, 1.355, -9.714, 9.175, 8.076, -1.415, 0.299, -8.468, -0.27,\n",
    "#     0.295, -7.546, -0.266, -6.898, 9.425, 9.027, -3.708, 9.066, -1.614, 2.481,\n",
    "#     0.409, 3.727, 1.631, 8.671, 6.807, -2.134, 0.733, -7.457, -2.944, -1.1,\n",
    "#     1.967, 6.348, 3.404, -4.67, 6.384, 0.329, 5.1, 3.699, -7.607, 5.938,\n",
    "#     -2.77, 8.04, -9.167, -8.469, -7.963, -8.165, -7.44, -9.424, -7.244, 2.461,\n",
    "#     8.518, 2.351, -0.067, 8.152, 2.319, 5.154, -9.733, 7.442, -4.676, 1.999,\n",
    "#     7.925, -8.872, 4.215, -1.175, 8.375, -3.285, -8.919, -4.808, -5.282, -4.627,\n",
    "#     5.988, 7.496, 6.509, -8.608, 2.063, 4.657, 1.091, -5.87, 3.072, -3.666\n",
    "# ]"
   ]
  },
  {
   "cell_type": "code",
   "execution_count": 440,
   "metadata": {},
   "outputs": [],
   "source": [
    "def decorate_plot(ax, x_ticks, xname, yname, loc=(-0.025, -0.3)):\n",
    "    SIZE_TICKS = 10\n",
    "\n",
    "    # Eliminate upper and right axes\n",
    "    ax.spines['right'].set_color('none')\n",
    "    ax.spines['top'].set_color('none')\n",
    "\n",
    "    # Show ticks in the left and lower axes only\n",
    "    ax.xaxis.set_ticks_position('bottom')\n",
    "    ax.yaxis.set_ticks_position('left')\n",
    "\n",
    "    # axis names\n",
    "    ax.set_xlabel(xname, fontsize=15)\n",
    "    ax.xaxis.set_label_coords(0.98, 0.05)\n",
    "\n",
    "    ax.set_ylabel(yname, rotation=0, fontsize=15)\n",
    "    ax.yaxis.set_label_coords(0.025, 0.95)\n",
    "\n",
    "    ax.set_xticks(x_ticks)\n",
    "\n",
    "    # Adjust the font size of the tick labels\n",
    "    ax.tick_params(axis='both', which='major', labelsize=SIZE_TICKS)\n",
    "\n",
    "    plt.legend(fontsize=10, loc=loc)\n",
    "\n",
    "    # Update font settings\n",
    "    plt.rcParams.update({'font.family': 'serif', 'font.size': 12})\n",
    "\n",
    "    # Adjust layout\n",
    "    plt.tight_layout()"
   ]
  },
  {
   "cell_type": "code",
   "execution_count": 441,
   "metadata": {},
   "outputs": [],
   "source": [
    "def clean(data):\n",
    "    res = []\n",
    "    for el in data:\n",
    "        res.append(round(el, 3))\n",
    "    return res"
   ]
  },
  {
   "cell_type": "code",
   "execution_count": 442,
   "metadata": {},
   "outputs": [
    {
     "name": "stdout",
     "output_type": "stream",
     "text": [
      "n: 120\n",
      "min: 2.375     max: 17.985\n",
      "range: 15.61\n",
      "l: 7\n",
      "h: 2.23\n",
      "interval boundaries: [ 2.375  4.605  6.835  9.065 11.295 13.525 15.755 17.985]\n",
      "intervals: [[ 2.375  4.605]\n",
      " [ 4.605  6.835]\n",
      " [ 6.835  9.065]\n",
      " [ 9.065 11.295]\n",
      " [11.295 13.525]\n",
      " [13.525 15.755]\n",
      " [15.755 17.985]]\n",
      "intervals' midpoints: [ 3.49  5.72  7.95 10.18 12.41 14.64 16.87]\n",
      "frequencies: [12. 20. 18. 18. 17. 20. 14.]\n",
      "relative frequencies: [0.1        0.16666667 0.15       0.15       0.14166667 0.16666667\n",
      " 0.11666667]\n",
      "relative frequencies' density: [0.04484305 0.07473842 0.06726457 0.06726457 0.06352765 0.07473842\n",
      " 0.05231689]\n",
      "----------------------------------------------------------------------------------------------------\n",
      "[2.375 4.605]     12.0     0.1     0.044843049327354265\n",
      "[4.605 6.835]     20.0     0.16666666666666666     0.07473841554559044\n",
      "[6.835 9.065]     18.0     0.15     0.06726457399103139\n",
      "[ 9.065 11.295]     18.0     0.15     0.06726457399103139\n",
      "[11.295 13.525]     17.0     0.14166666666666666     0.06352765321375187\n",
      "[13.525 15.755]     20.0     0.16666666666666666     0.07473841554559044\n",
      "[15.755 17.985]     14.0     0.11666666666666667     0.052316890881913304\n"
     ]
    }
   ],
   "source": [
    "def group(data):\n",
    "    n_ = len(data)\n",
    "    print(f'n: {n_}')\n",
    "\n",
    "    min_ = min(data)\n",
    "    max_ = max(data)\n",
    "    print(f'min: {min_}     max: {max_}')\n",
    "\n",
    "    range_ = max_ - min_\n",
    "    print(f'range: {range_}')\n",
    "\n",
    "    l_ = 1 + int(np.log2(n_))\n",
    "    print(f'l: {l_}')\n",
    "\n",
    "    h_ = range_ / l_\n",
    "    print(f'h: {h_}')\n",
    "\n",
    "    int_boundaries_ = np.array(\n",
    "        [min_ + i * h_ for i in range(0, l_ + 1, 1)]\n",
    "    )\n",
    "    print(f'interval boundaries: {int_boundaries_}')\n",
    "    intervals_ = np.array(\n",
    "        [(int_boundaries_[i], int_boundaries_[i+1]) for i in range(0, l_, 1)]\n",
    "    )\n",
    "    print(f'intervals: {intervals_}')\n",
    "    mid_ranges_ = np.array(\n",
    "        [sum(interval)/2 for interval in intervals_]\n",
    "    )\n",
    "    print(f'intervals\\' midpoints: {mid_ranges_}')\n",
    "\n",
    "    present = lambda el, int_ : int_[0] <= el < int_[1]\n",
    "    freqs_ = np.zeros(l_)\n",
    "    for el in data:\n",
    "        for j in range(0, l_, 1):\n",
    "            if present(el, intervals_[j]):\n",
    "                freqs_[j] += 1 \n",
    "\n",
    "    freqs_[-1] += np.count_nonzero(data == max_)\n",
    "    print(f'frequencies: {freqs_}')\n",
    "\n",
    "    rel_freqs_ = freqs_ / n_\n",
    "    print(f'relative frequencies: {rel_freqs_}')\n",
    "\n",
    "    rel_freqs_density_ = rel_freqs_ / h_\n",
    "    print(f'relative frequencies\\' density: {rel_freqs_density_}')\n",
    "\n",
    "    print(f'-'*100)\n",
    "\n",
    "    space_ = ' ' * 5\n",
    "    for i in range(l_):\n",
    "        print(f'{intervals_[i]}{space_}{freqs_[i]}{space_}{rel_freqs_[i]}{space_}{rel_freqs_density_[i]}')\n",
    "    \n",
    "    return n_, min_, max_, range_, l_, h_, int_boundaries_, intervals_, mid_ranges_, freqs_, rel_freqs_, rel_freqs_density_\n",
    "\n",
    "n_, min_, max_, range_, l_, h_, int_boundaries_, intervals_, mid_ranges_, freqs_, rel_freqs_, rel_freqs_density_ = group(data_)"
   ]
  },
  {
   "cell_type": "code",
   "execution_count": 443,
   "metadata": {},
   "outputs": [
    {
     "name": "stdout",
     "output_type": "stream",
     "text": [
      "p_i: [0.143, 0.143, 0.143, 0.143, 0.143, 0.143, 0.143]\n",
      "n * p_i: [17.143, 17.143, 17.143, 17.143, 17.143, 17.143, 17.143]\n"
     ]
    }
   ],
   "source": [
    "# a = a1\n",
    "# b = b1\n",
    "\n",
    "a = min_\n",
    "b = max_\n",
    "\n",
    "theorIntHitProbs_  = [] # p_j\n",
    "theorIntHitProbsN_ = [] # n*p_j\n",
    "\n",
    "cdf_ = lambda x : sp.stats.uniform.cdf(x, loc=a, scale=b-a)\n",
    "\n",
    "for interval in intervals_:\n",
    "    beg = interval[0]\n",
    "    end = interval[1]\n",
    "\n",
    "    theorIntHitProb = cdf_(end) - cdf_(beg)\n",
    "    theorIntHitProbs_.append(theorIntHitProb)\n",
    "\n",
    "    theorIntHitProbsN_.append(n_ * theorIntHitProb)\n",
    "\n",
    "print(f'p_i: {clean(theorIntHitProbs_)}')\n",
    "print(f'n * p_i: {clean(theorIntHitProbsN_)}')"
   ]
  },
  {
   "cell_type": "code",
   "execution_count": 444,
   "metadata": {},
   "outputs": [
    {
     "data": {
      "text/plain": [
       "1.0"
      ]
     },
     "execution_count": 444,
     "metadata": {},
     "output_type": "execute_result"
    }
   ],
   "source": [
    "sum(theorIntHitProbs_)"
   ]
  },
  {
   "cell_type": "code",
   "execution_count": 445,
   "metadata": {},
   "outputs": [
    {
     "data": {
      "text/plain": [
       "3.158333333333341"
      ]
     },
     "execution_count": 445,
     "metadata": {},
     "output_type": "execute_result"
    }
   ],
   "source": [
    "Chi2_v = sum([((freqs_[i] - theorIntHitProbsN_[i])**2)/theorIntHitProbsN_[i] for i in range(l_)])\n",
    "Chi2_v"
   ]
  },
  {
   "cell_type": "code",
   "execution_count": 446,
   "metadata": {},
   "outputs": [
    {
     "data": {
      "text/plain": [
       "13.276704135987622"
      ]
     },
     "execution_count": 446,
     "metadata": {},
     "output_type": "execute_result"
    }
   ],
   "source": [
    "quantile = sp.stats.chi2.ppf(1 - alpha_, l_ - 1 - 2)\n",
    "quantile"
   ]
  },
  {
   "cell_type": "code",
   "execution_count": 447,
   "metadata": {},
   "outputs": [
    {
     "name": "stderr",
     "output_type": "stream",
     "text": [
      "No artists with labels found to put in legend.  Note that artists whose label start with an underscore are ignored when legend() is called with no argument.\n"
     ]
    },
    {
     "data": {
      "image/png": "[encoded data removed]",
      "text/plain": [
       "<Figure size 1000x600 with 1 Axes>"
      ]
     },
     "metadata": {},
     "output_type": "display_data"
    }
   ],
   "source": [
    "def buildBar(filename):\n",
    "    RED = '#6F1D1B'\n",
    "\n",
    "    _, ax = plt.subplots(figsize=(10, 6))\n",
    "\n",
    "    x_values = mid_ranges_\n",
    "    y_values = rel_freqs_density_\n",
    "\n",
    "    ax.bar(x_values, \n",
    "           y_values, \n",
    "           width=h_, \n",
    "           color='white',\n",
    "           edgecolor=RED, \n",
    "           linestyle='-', \n",
    "           linewidth=1.5, \n",
    "           align='center')\n",
    "    \n",
    "    x_values = np.linspace(min_, max_, 100)\n",
    "    y_values = sp.stats.uniform.pdf(x_values, loc=a, scale=b-a)\n",
    "    ax.plot(x_values, \n",
    "            y_values, \n",
    "            color='black',\n",
    "            linestyle='--', \n",
    "            linewidth=3)\n",
    "\n",
    "    decorate_plot(ax, int_boundaries_, 'int', '$p^r$', loc=(0, 0))\n",
    "\n",
    "    plt.savefig(f'{filename}.png', dpi=300, transparent=True)\n",
    "\n",
    "    plt.show()\n",
    "\n",
    "buildBar('hist')"
   ]
  }
 ],
 "metadata": {
  "kernelspec": {
   "display_name": "Python 3",
   "language": "python",
   "name": "python3"
  },
  "language_info": {
   "codemirror_mode": {
    "name": "ipython",
    "version": 3
   },
   "file_extension": ".py",
   "mimetype": "text/x-python",
   "name": "python",
   "nbconvert_exporter": "python",
   "pygments_lexer": "ipython3",
   "version": "3.11.9"
  }
 },
 "nbformat": 4,
 "nbformat_minor": 2
}
